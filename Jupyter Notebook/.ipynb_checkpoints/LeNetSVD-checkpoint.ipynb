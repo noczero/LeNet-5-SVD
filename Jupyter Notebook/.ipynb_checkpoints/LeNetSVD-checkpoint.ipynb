{
 "cells": [
  {
   "cell_type": "markdown",
   "metadata": {},
   "source": [
    "# LeNet-5 with SVD\n",
    "Author : Satrya Budi Pratama"
   ]
  },
  {
   "cell_type": "code",
   "execution_count": 1,
   "metadata": {},
   "outputs": [],
   "source": [
    "import gzip\n",
    "import numpy as np\n",
    "import pandas as pd\n",
    "\n",
    "from sklearn.model_selection import train_test_split\n",
    "from sklearn.utils import shuffle\n",
    "import tensorflow as tf\n",
    "\n",
    "%matplotlib inline\n",
    "import matplotlib.pyplot as plt\n",
    "import seaborn as sns\n",
    "sns.set()"
   ]
  },
  {
   "cell_type": "markdown",
   "metadata": {},
   "source": [
    "## Load Dataset"
   ]
  },
  {
   "cell_type": "code",
   "execution_count": 2,
   "metadata": {},
   "outputs": [],
   "source": [
    "def read_mnist(images_path, labels_path):\n",
    "    \"\"\"\n",
    "        This method load extracted file of MNIST\n",
    "        input : images_path,labels_path\n",
    "        return : features, labels\n",
    "    \"\"\"\n",
    "    \n",
    "    with gzip.open(labels_path, 'rb') as labelsFile:\n",
    "        labels = np.frombuffer(labelsFile.read(), dtype=np.uint8, offset=8)\n",
    "\n",
    "    with gzip.open(images_path,'rb') as imagesFile:\n",
    "        length = len(labels)\n",
    "        # Load flat 28x28 px images (784 px), and convert them to 28x28 px\n",
    "        features = np.frombuffer(imagesFile.read(), dtype=np.uint8, offset=16) \\\n",
    "                        .reshape(length, 784) \\\n",
    "                        .reshape(length, 28, 28, 1)\n",
    "        \n",
    "    return features, labels"
   ]
  },
  {
   "cell_type": "markdown",
   "metadata": {},
   "source": [
    "### Training Data"
   ]
  },
  {
   "cell_type": "code",
   "execution_count": 3,
   "metadata": {},
   "outputs": [],
   "source": [
    "data_train = {}\n",
    "data_train_filename = \"MNIST Dataset/train-images-idx3-ubyte.gz\"\n",
    "data_train_label_filename = \"MNIST Dataset/train-labels-idx1-ubyte.gz\"\n",
    "data_train['X'], data_train['y'] = read_mnist(data_train_filename,data_train_label_filename)"
   ]
  },
  {
   "cell_type": "markdown",
   "metadata": {},
   "source": [
    "### Testing Data"
   ]
  },
  {
   "cell_type": "code",
   "execution_count": 4,
   "metadata": {},
   "outputs": [],
   "source": [
    "data_test = {}\n",
    "data_test_filename = \"MNIST Dataset/t10k-images-idx3-ubyte.gz\"\n",
    "data_test_label_filename = \"MNIST Dataset/t10k-labels-idx1-ubyte.gz\"\n",
    "data_test['X'], data_test['y'] = read_mnist(data_test_filename, data_test_label_filename)"
   ]
  },
  {
   "cell_type": "markdown",
   "metadata": {},
   "source": [
    "## Display Images"
   ]
  },
  {
   "cell_type": "code",
   "execution_count": 5,
   "metadata": {},
   "outputs": [],
   "source": [
    "def display_image(position):\n",
    "    image = data_train['X'][position].squeeze()\n",
    "    plt.title('Example %d. Label: %d' % (position, data_train['y'][position]))\n",
    "    plt.imshow(image, cmap=plt.cm.gray_r)"
   ]
  },
  {
   "cell_type": "code",
   "execution_count": 6,
   "metadata": {},
   "outputs": [
    {
     "data": {
      "image/png": "[encoded data removed]",
      "text/plain": [
       "<Figure size 432x288 with 1 Axes>"
      ]
     },
     "metadata": {
      "needs_background": "light"
     },
     "output_type": "display_data"
    }
   ],
   "source": [
    "display_image(0)"
   ]
  },
  {
   "cell_type": "markdown",
   "metadata": {},
   "source": [
    "## Observe the training data"
   ]
  },
  {
   "cell_type": "code",
   "execution_count": 7,
   "metadata": {},
   "outputs": [
    {
     "data": {
      "text/html": [
       "<div>\n",
       "<style scoped>\n",
       "    .dataframe tbody tr th:only-of-type {\n",
       "        vertical-align: middle;\n",
       "    }\n",
       "\n",
       "    .dataframe tbody tr th {\n",
       "        vertical-align: top;\n",
       "    }\n",
       "\n",
       "    .dataframe thead th {\n",
       "        text-align: right;\n",
       "    }\n",
       "</style>\n",
       "<table border=\"1\" class=\"dataframe\">\n",
       "  <thead>\n",
       "    <tr style=\"text-align: right;\">\n",
       "      <th></th>\n",
       "      <th>Label</th>\n",
       "      <th>Count</th>\n",
       "    </tr>\n",
       "  </thead>\n",
       "  <tbody>\n",
       "    <tr>\n",
       "      <td>0</td>\n",
       "      <td>0</td>\n",
       "      <td>5923</td>\n",
       "    </tr>\n",
       "    <tr>\n",
       "      <td>1</td>\n",
       "      <td>1</td>\n",
       "      <td>6742</td>\n",
       "    </tr>\n",
       "    <tr>\n",
       "      <td>2</td>\n",
       "      <td>2</td>\n",
       "      <td>5958</td>\n",
       "    </tr>\n",
       "    <tr>\n",
       "      <td>3</td>\n",
       "      <td>3</td>\n",
       "      <td>6131</td>\n",
       "    </tr>\n",
       "    <tr>\n",
       "      <td>4</td>\n",
       "      <td>4</td>\n",
       "      <td>5842</td>\n",
       "    </tr>\n",
       "    <tr>\n",
       "      <td>5</td>\n",
       "      <td>5</td>\n",
       "      <td>5421</td>\n",
       "    </tr>\n",
       "    <tr>\n",
       "      <td>6</td>\n",
       "      <td>6</td>\n",
       "      <td>5918</td>\n",
       "    </tr>\n",
       "    <tr>\n",
       "      <td>7</td>\n",
       "      <td>7</td>\n",
       "      <td>6265</td>\n",
       "    </tr>\n",
       "    <tr>\n",
       "      <td>8</td>\n",
       "      <td>8</td>\n",
       "      <td>5851</td>\n",
       "    </tr>\n",
       "    <tr>\n",
       "      <td>9</td>\n",
       "      <td>9</td>\n",
       "      <td>5949</td>\n",
       "    </tr>\n",
       "  </tbody>\n",
       "</table>\n",
       "</div>"
      ],
      "text/plain": [
       "   Label  Count\n",
       "0      0   5923\n",
       "1      1   6742\n",
       "2      2   5958\n",
       "3      3   6131\n",
       "4      4   5842\n",
       "5      5   5421\n",
       "6      6   5918\n",
       "7      7   6265\n",
       "8      8   5851\n",
       "9      9   5949"
      ]
     },
     "execution_count": 7,
     "metadata": {},
     "output_type": "execute_result"
    }
   ],
   "source": [
    "train_labels_count = np.unique(data_train['y'], return_counts=True)\n",
    "dataframe_train_labels = pd.DataFrame({'Label':train_labels_count[0], 'Count':train_labels_count[1]})\n",
    "dataframe_train_labels"
   ]
  },
  {
   "cell_type": "markdown",
   "metadata": {},
   "source": [
    "The train data is balance for each class, it's good for a dataset to build a good model"
   ]
  },
  {
   "cell_type": "markdown",
   "metadata": {},
   "source": [
    "## Shuffle and split the training data into training and validation"
   ]
  },
  {
   "cell_type": "markdown",
   "metadata": {},
   "source": [
    "Shuffling and splitting our training data into 2 sets: train and validation. While leaving the test data unseen by our model until we are done with the training to avoid a self-fulfilling prophecy."
   ]
  },
  {
   "cell_type": "code",
   "execution_count": 8,
   "metadata": {},
   "outputs": [],
   "source": [
    "# shuffle\n",
    "data_train['X'], data_train['y'] = shuffle(data_train['X'], data_train['y'])"
   ]
  },
  {
   "cell_type": "code",
   "execution_count": 9,
   "metadata": {},
   "outputs": [],
   "source": [
    "# split into train and validation, 20% of validation data and 80% of training data\n",
    "data_validation = {}\n",
    "data_train['X'], data_validation['X'], data_train['y'], data_validation['y'] = train_test_split(data_train['X'], data_train['y'], test_size=0.2, random_state=0)"
   ]
  },
  {
   "cell_type": "code",
   "execution_count": 10,
   "metadata": {},
   "outputs": [
    {
     "data": {
      "text/plain": [
       "48000"
      ]
     },
     "execution_count": 10,
     "metadata": {},
     "output_type": "execute_result"
    }
   ],
   "source": [
    "# check number of data train\n",
    "len(data_train['X'])"
   ]
  },
  {
   "cell_type": "code",
   "execution_count": 11,
   "metadata": {},
   "outputs": [
    {
     "data": {
      "text/plain": [
       "12000"
      ]
     },
     "execution_count": 11,
     "metadata": {},
     "output_type": "execute_result"
    }
   ],
   "source": [
    "# check number of validation\n",
    "len(data_validation['X'])"
   ]
  },
  {
   "cell_type": "markdown",
   "metadata": {},
   "source": [
    "## Prepare Input Images \n",
    "The LeNet architecture accepts a 32x32 pixel images as input, mnist data is 28x28 pixels. We simply pad the images with zeros to overcome that."
   ]
  },
  {
   "cell_type": "code",
   "execution_count": 12,
   "metadata": {},
   "outputs": [
    {
     "name": "stdout",
     "output_type": "stream",
     "text": [
      "Updated Image Shape: (32, 32, 1)\n"
     ]
    }
   ],
   "source": [
    "# Pad images with 0s\n",
    "data_train['X']      = np.pad(data_train['X'], ((0,0),(2,2),(2,2),(0,0)), 'constant')\n",
    "data_validation['X'] = np.pad(data_validation['X'], ((0,0),(2,2),(2,2),(0,0)), 'constant')\n",
    "data_test['X']       = np.pad(data_test['X'], ((0,0),(2,2),(2,2),(0,0)), 'constant')\n",
    "    \n",
    "print(\"Updated Image Shape: {}\".format(data_train['X'][0].shape))"
   ]
  },
  {
   "cell_type": "markdown",
   "metadata": {},
   "source": [
    "## LeNet-5 Implementation"
   ]
  },
  {
   "cell_type": "code",
   "execution_count": 117,
   "metadata": {},
   "outputs": [],
   "source": [
    "# parameters\n",
    "EPOCHS = 12\n",
    "BATCH_SIZE = 128\n",
    "n_classes = 10\n",
    "learning_rate = 0.0002"
   ]
  },
  {
   "cell_type": "code",
   "execution_count": 31,
   "metadata": {},
   "outputs": [],
   "source": [
    "# Importing the required Keras modules containing model and layers\n",
    "from keras.models import Sequential\n",
    "from keras.layers import Dense, Conv2D, Dropout, Flatten, AveragePooling2D\n",
    "\n",
    "model = Sequential()\n",
    "\n",
    "model.add(Conv2D(filters=6, kernel_size=(3, 3), activation='relu', input_shape=(32,32,1)))\n",
    "model.add(AveragePooling2D())\n",
    "\n",
    "model.add(Conv2D(filters=16, kernel_size=(3, 3), activation='relu'))\n",
    "model.add(AveragePooling2D())\n",
    "\n",
    "model.add(Flatten())\n",
    "\n",
    "model.add(Dense(units=120, activation='relu'))\n",
    "\n",
    "model.add(Dense(units=84, activation='relu'))\n",
    "\n",
    "model.add(Dropout(0.2))\n",
    "\n",
    "model.add(Dense(units=10, activation = 'softmax'))"
   ]
  },
  {
   "cell_type": "markdown",
   "metadata": {},
   "source": [
    "## Training Model without SVD"
   ]
  },
  {
   "cell_type": "code",
   "execution_count": 175,
   "metadata": {},
   "outputs": [
    {
     "name": "stdout",
     "output_type": "stream",
     "text": [
      "Train on 48000 samples, validate on 12000 samples\n",
      "Epoch 1/12\n",
      "48000/48000 [==============================] - 26s 538us/step - loss: 0.0017 - accuracy: 0.9994 - val_loss: 0.0801 - val_accuracy: 0.9902\n",
      "Epoch 2/12\n",
      "48000/48000 [==============================] - 27s 560us/step - loss: 0.0025 - accuracy: 0.9994 - val_loss: 0.0830 - val_accuracy: 0.9897\n",
      "Epoch 3/12\n",
      "48000/48000 [==============================] - 26s 540us/step - loss: 0.0023 - accuracy: 0.9992 - val_loss: 0.0691 - val_accuracy: 0.9905\n",
      "Epoch 4/12\n",
      "48000/48000 [==============================] - 26s 550us/step - loss: 0.0031 - accuracy: 0.9990 - val_loss: 0.0785 - val_accuracy: 0.9898\n",
      "Epoch 5/12\n",
      "48000/48000 [==============================] - 26s 546us/step - loss: 0.0018 - accuracy: 0.9995 - val_loss: 0.0813 - val_accuracy: 0.9899\n",
      "Epoch 6/12\n",
      "48000/48000 [==============================] - 26s 549us/step - loss: 0.0018 - accuracy: 0.9995 - val_loss: 0.0868 - val_accuracy: 0.9895\n",
      "Epoch 7/12\n",
      "48000/48000 [==============================] - 26s 543us/step - loss: 0.0020 - accuracy: 0.9994 - val_loss: 0.0731 - val_accuracy: 0.9891\n",
      "Epoch 8/12\n",
      "48000/48000 [==============================] - 27s 572us/step - loss: 0.0024 - accuracy: 0.9994 - val_loss: 0.0742 - val_accuracy: 0.9893\n",
      "Epoch 9/12\n",
      "48000/48000 [==============================] - 27s 563us/step - loss: 0.0016 - accuracy: 0.9996 - val_loss: 0.1099 - val_accuracy: 0.9887\n",
      "Epoch 10/12\n",
      "48000/48000 [==============================] - 26s 548us/step - loss: 0.0016 - accuracy: 0.9994 - val_loss: 0.0876 - val_accuracy: 0.9900\n",
      "Epoch 11/12\n",
      "48000/48000 [==============================] - 27s 556us/step - loss: 0.0019 - accuracy: 0.9995 - val_loss: 0.0753 - val_accuracy: 0.9909\n",
      "Epoch 12/12\n",
      "48000/48000 [==============================] - 26s 543us/step - loss: 0.0018 - accuracy: 0.9994 - val_loss: 0.0771 - val_accuracy: 0.9907\n"
     ]
    }
   ],
   "source": [
    "from keras.optimizers import Adam\n",
    "optimizer = Adam(lr=learning_rate)\n",
    "model.compile(optimizer= optimizer, \n",
    "              loss='sparse_categorical_crossentropy', \n",
    "              metrics=['accuracy'])\n",
    "original = model.fit(x=data_train['X'],y=data_train['y'], epochs=EPOCHS,  \n",
    "                    # We pass some validation for\n",
    "                    # monitoring validation loss and metrics\n",
    "                    # at the end of each epoch\n",
    "                    validation_data=(data_validation['X'], data_validation['y']))"
   ]
  },
  {
   "cell_type": "markdown",
   "metadata": {},
   "source": [
    "### Visualize training"
   ]
  },
  {
   "cell_type": "code",
   "execution_count": 188,
   "metadata": {},
   "outputs": [
    {
     "name": "stdout",
     "output_type": "stream",
     "text": [
      "dict_keys(['val_loss', 'val_accuracy', 'loss', 'accuracy'])\n"
     ]
    },
    {
     "data": {
      "image/png": "[encoded data removed]",
      "text/plain": [
       "<Figure size 432x288 with 1 Axes>"
      ]
     },
     "metadata": {
      "needs_background": "light"
     },
     "output_type": "display_data"
    },
    {
     "data": {
      "image/png": "[encoded data removed]",
      "text/plain": [
       "<Figure size 432x288 with 1 Axes>"
      ]
     },
     "metadata": {
      "needs_background": "light"
     },
     "output_type": "display_data"
    }
   ],
   "source": [
    "# Plot data\n",
    "# list all data in history\n",
    "print(original.history.keys())\n",
    "# summarize history for accuracy\n",
    "x_axis = np.arange(1,EPOCHS+1)\n",
    "plt.plot(x_axis,original.history['accuracy'])\n",
    "plt.plot(x_axis,original.history['val_accuracy'])\n",
    "plt.title('Model Accuracy')\n",
    "plt.ylabel('Accuracy')\n",
    "plt.xlabel('Epoch')\n",
    "plt.legend(['Train', 'Validation'], loc='upper left')\n",
    "plt.show()\n",
    "# summarize history for loss\n",
    "plt.plot(x_axis,original.history['loss'])\n",
    "plt.plot(x_axis,original.history['val_loss'])\n",
    "plt.title('Model Loss')\n",
    "plt.ylabel('Accuracy')\n",
    "plt.xlabel('Epoch')\n",
    "plt.legend(['Train', 'Validation'], loc='upper left')\n",
    "plt.show()"
   ]
  },
  {
   "cell_type": "code",
   "execution_count": 186,
   "metadata": {},
   "outputs": [
    {
     "data": {
      "text/plain": [
       "array([ 1,  2,  3,  4,  5,  6,  7,  8,  9, 10, 11, 12])"
      ]
     },
     "execution_count": 186,
     "metadata": {},
     "output_type": "execute_result"
    }
   ],
   "source": [
    "x_axis = np.arange(1,EPOCHS+1)\n",
    "x_axis"
   ]
  },
  {
   "cell_type": "markdown",
   "metadata": {},
   "source": [
    "## Testing Model without SVD"
   ]
  },
  {
   "cell_type": "code",
   "execution_count": 178,
   "metadata": {},
   "outputs": [
    {
     "name": "stdout",
     "output_type": "stream",
     "text": [
      "10000/10000 [==============================] - 2s 230us/step\n"
     ]
    },
    {
     "data": {
      "text/plain": [
       "[0.06363694014366336, 0.9911999702453613]"
      ]
     },
     "execution_count": 178,
     "metadata": {},
     "output_type": "execute_result"
    }
   ],
   "source": [
    "model.evaluate(data_test['X'], data_test['y'])"
   ]
  },
  {
   "cell_type": "markdown",
   "metadata": {},
   "source": [
    "## SVD Implementation"
   ]
  },
  {
   "cell_type": "code",
   "execution_count": 159,
   "metadata": {},
   "outputs": [],
   "source": [
    "def get_reduced_data(features, number_of_components):\n",
    "    \"\"\"\n",
    "    This method process all original data to low rank data using SVD, and reconstruct using some components.\n",
    "    Result of the dimension of features is same, so no dimension reduction but keep the data lower.\n",
    "    Input : features , number_of_components\n",
    "    Output : reduced_features\n",
    "    \"\"\"\n",
    "    \n",
    "    reduced_features = []\n",
    "    # iterate over features\n",
    "    for i in range(len(features)):\n",
    "        # obtain svd without the channel 32x32xC\n",
    "        U, S, V = np.linalg.svd(features[i].squeeze())\n",
    "        # construct the matrix to lower rank\n",
    "        reduced_feature = U[:, :number_of_components] @ np.diag(S[:number_of_components]) @ V[:number_of_components , :]\n",
    "        # append to the list and add channel again so 32x32x1\n",
    "        reduced_features.append(reduced_feature[:,:,np.newaxis]) \n",
    "    \n",
    "    return np.array(reduced_features) # convert from list to array"
   ]
  },
  {
   "cell_type": "markdown",
   "metadata": {},
   "source": [
    "### Visualize the Image from reduced data"
   ]
  },
  {
   "cell_type": "code",
   "execution_count": 140,
   "metadata": {},
   "outputs": [
    {
     "data": {
      "text/plain": [
       "array([[0., 0., 0., ..., 0., 0., 0.],\n",
       "       [0., 0., 0., ..., 0., 0., 0.],\n",
       "       [0., 0., 0., ..., 0., 0., 0.],\n",
       "       ...,\n",
       "       [0., 0., 0., ..., 0., 0., 0.],\n",
       "       [0., 0., 0., ..., 0., 0., 0.],\n",
       "       [0., 0., 0., ..., 0., 0., 0.]])"
      ]
     },
     "execution_count": 140,
     "metadata": {},
     "output_type": "execute_result"
    }
   ],
   "source": [
    "# components that we use, less than the original dimension\n",
    "num_of_components = 15\n",
    "\n",
    "# get SVD\n",
    "U, S, V = np.linalg.svd(data_train['X'][0].squeeze())\n",
    "# reconstruct the matrix to low rank matrix with 15 components \n",
    "low_rank = U[:, :num_of_components] @ np.diag(S[:num_of_components]) @ V[:num_of_components, :]\n",
    "low_rank"
   ]
  },
  {
   "cell_type": "code",
   "execution_count": 141,
   "metadata": {},
   "outputs": [
    {
     "data": {
      "text/plain": [
       "<matplotlib.image.AxesImage at 0x7fa890fb5990>"
      ]
     },
     "execution_count": 141,
     "metadata": {},
     "output_type": "execute_result"
    },
    {
     "data": {
      "image/png": "[encoded data removed]",
      "text/plain": [
       "<Figure size 432x288 with 1 Axes>"
      ]
     },
     "metadata": {
      "needs_background": "light"
     },
     "output_type": "display_data"
    }
   ],
   "source": [
    "# show images\n",
    "plt.imshow(low_rank.squeeze(), cmap=plt.cm.gray_r)"
   ]
  },
  {
   "cell_type": "code",
   "execution_count": 142,
   "metadata": {},
   "outputs": [
    {
     "data": {
      "image/png": "[encoded data removed]",
      "text/plain": [
       "<Figure size 432x288 with 1 Axes>"
      ]
     },
     "metadata": {
      "needs_background": "light"
     },
     "output_type": "display_data"
    }
   ],
   "source": [
    "# original image\n",
    "display_image(0)"
   ]
  },
  {
   "cell_type": "markdown",
   "metadata": {},
   "source": [
    "### Get reduced data for Data Training, Data Validation, and Data Testing"
   ]
  },
  {
   "cell_type": "code",
   "execution_count": 174,
   "metadata": {},
   "outputs": [],
   "source": [
    "data_train_SVD = get_reduced_data(data_train['X'], num_of_components)\n",
    "data_test_SVD = get_reduced_data(data_test['X'], num_of_components)\n",
    "data_validation_SVD = get_reduced_data(data_validation['X'], num_of_components)"
   ]
  },
  {
   "cell_type": "markdown",
   "metadata": {},
   "source": [
    "## Training Model with SVD"
   ]
  },
  {
   "cell_type": "code",
   "execution_count": 170,
   "metadata": {},
   "outputs": [
    {
     "name": "stdout",
     "output_type": "stream",
     "text": [
      "Train on 48000 samples, validate on 12000 samples\n",
      "Epoch 1/12\n",
      "48000/48000 [==============================] - 27s 552us/step - loss: 0.0038 - accuracy: 0.9989 - val_loss: 0.0720 - val_accuracy: 0.9896\n",
      "Epoch 2/12\n",
      "48000/48000 [==============================] - 26s 545us/step - loss: 0.0026 - accuracy: 0.9992 - val_loss: 0.0688 - val_accuracy: 0.9905\n",
      "Epoch 3/12\n",
      "48000/48000 [==============================] - 26s 535us/step - loss: 0.0045 - accuracy: 0.9986 - val_loss: 0.0657 - val_accuracy: 0.9900\n",
      "Epoch 4/12\n",
      "48000/48000 [==============================] - 26s 547us/step - loss: 0.0039 - accuracy: 0.9987 - val_loss: 0.0601 - val_accuracy: 0.9896\n",
      "Epoch 5/12\n",
      "48000/48000 [==============================] - 27s 558us/step - loss: 0.0020 - accuracy: 0.9993 - val_loss: 0.0596 - val_accuracy: 0.9902\n",
      "Epoch 6/12\n",
      "48000/48000 [==============================] - 27s 562us/step - loss: 0.0024 - accuracy: 0.9991 - val_loss: 0.0632 - val_accuracy: 0.9908\n",
      "Epoch 7/12\n",
      "48000/48000 [==============================] - 27s 559us/step - loss: 0.0023 - accuracy: 0.9992 - val_loss: 0.0721 - val_accuracy: 0.9903\n",
      "Epoch 8/12\n",
      "48000/48000 [==============================] - 27s 557us/step - loss: 0.0037 - accuracy: 0.9989 - val_loss: 0.0623 - val_accuracy: 0.9906\n",
      "Epoch 9/12\n",
      "48000/48000 [==============================] - 27s 572us/step - loss: 0.0014 - accuracy: 0.9996 - val_loss: 0.0681 - val_accuracy: 0.9904\n",
      "Epoch 10/12\n",
      "48000/48000 [==============================] - 29s 607us/step - loss: 0.0036 - accuracy: 0.9990 - val_loss: 0.0828 - val_accuracy: 0.9892\n",
      "Epoch 11/12\n",
      "48000/48000 [==============================] - 28s 590us/step - loss: 0.0032 - accuracy: 0.9989 - val_loss: 0.0919 - val_accuracy: 0.9881\n",
      "Epoch 12/12\n",
      "48000/48000 [==============================] - 28s 574us/step - loss: 0.0024 - accuracy: 0.9993 - val_loss: 0.0669 - val_accuracy: 0.9908\n"
     ]
    },
    {
     "data": {
      "text/plain": [
       "<keras.callbacks.callbacks.History at 0x7fa89049b6d0>"
      ]
     },
     "execution_count": 170,
     "metadata": {},
     "output_type": "execute_result"
    }
   ],
   "source": [
    "model_svd = model.fit(x=data_train_SVD,y=data_train['y'], epochs=EPOCHS,  \n",
    "                    # We pass some validation for\n",
    "                    # monitoring validation loss and metrics\n",
    "                    # at the end of each epoch\n",
    "                    validation_data=(data_validation_SVD, data_validation['y']))"
   ]
  },
  {
   "cell_type": "markdown",
   "metadata": {},
   "source": [
    "## Testing Model with SVD"
   ]
  },
  {
   "cell_type": "code",
   "execution_count": 171,
   "metadata": {},
   "outputs": [
    {
     "name": "stdout",
     "output_type": "stream",
     "text": [
      "10000/10000 [==============================] - 2s 237us/step\n"
     ]
    },
    {
     "data": {
      "text/plain": [
       "[0.05745201754023437, 0.9908000230789185]"
      ]
     },
     "execution_count": 171,
     "metadata": {},
     "output_type": "execute_result"
    }
   ],
   "source": [
    "model.evaluate(data_test_SVD, data_test['y'])"
   ]
  },
  {
   "cell_type": "code",
   "execution_count": null,
   "metadata": {},
   "outputs": [],
   "source": [
    "Analysis"
   ]
  }
 ],
 "metadata": {
  "kernelspec": {
   "display_name": "Python 3",
   "language": "python",
   "name": "python3"
  },
  "language_info": {
   "codemirror_mode": {
    "name": "ipython",
    "version": 3
   },
   "file_extension": ".py",
   "mimetype": "text/x-python",
   "name": "python",
   "nbconvert_exporter": "python",
   "pygments_lexer": "ipython3",
   "version": "3.7.4"
  }
 },
 "nbformat": 4,
 "nbformat_minor": 2
}
