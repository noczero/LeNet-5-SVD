{
 "cells": [
  {
   "cell_type": "markdown",
   "metadata": {},
   "source": [
    "# LeNet-5 with SVD\n",
    "Author : Satrya Budi Pratama"
   ]
  },
  {
   "cell_type": "code",
   "execution_count": 1,
   "metadata": {},
   "outputs": [],
   "source": [
    "import gzip\n",
    "import numpy as np\n",
    "import pandas as pd\n",
    "\n",
    "from sklearn.model_selection import train_test_split\n",
    "from sklearn.utils import shuffle\n",
    "import tensorflow as tf\n",
    "\n",
    "%matplotlib inline\n",
    "import matplotlib.pyplot as plt\n",
    "import seaborn as sns\n",
    "sns.set()\n",
    "\n",
    "import time"
   ]
  },
  {
   "cell_type": "markdown",
   "metadata": {},
   "source": [
    "## Load Dataset"
   ]
  },
  {
   "cell_type": "code",
   "execution_count": 2,
   "metadata": {},
   "outputs": [],
   "source": [
    "def read_mnist(images_path, labels_path):\n",
    "    \"\"\"\n",
    "        This method load extracted file of MNIST\n",
    "        input : images_path,labels_path\n",
    "        return : features, labels\n",
    "    \"\"\"\n",
    "    \n",
    "    with gzip.open(labels_path, 'rb') as labelsFile:\n",
    "        labels = np.frombuffer(labelsFile.read(), dtype=np.uint8, offset=8)\n",
    "\n",
    "    with gzip.open(images_path,'rb') as imagesFile:\n",
    "        length = len(labels)\n",
    "        # Load flat 28x28 px images (784 px), and convert them to 28x28 px\n",
    "        features = np.frombuffer(imagesFile.read(), dtype=np.uint8, offset=16) \\\n",
    "                        .reshape(length, 784) \\\n",
    "                        .reshape(length, 28, 28, 1)\n",
    "        \n",
    "    return features, labels"
   ]
  },
  {
   "cell_type": "markdown",
   "metadata": {},
   "source": [
    "### Training Data"
   ]
  },
  {
   "cell_type": "code",
   "execution_count": 3,
   "metadata": {},
   "outputs": [],
   "source": [
    "data_train = {}\n",
    "data_train_filename = \"MNIST Dataset/train-images-idx3-ubyte.gz\"\n",
    "data_train_label_filename = \"MNIST Dataset/train-labels-idx1-ubyte.gz\"\n",
    "data_train['X'], data_train['y'] = read_mnist(data_train_filename,data_train_label_filename)"
   ]
  },
  {
   "cell_type": "markdown",
   "metadata": {},
   "source": [
    "### Testing Data"
   ]
  },
  {
   "cell_type": "code",
   "execution_count": 4,
   "metadata": {},
   "outputs": [],
   "source": [
    "data_test = {}\n",
    "data_test_filename = \"MNIST Dataset/t10k-images-idx3-ubyte.gz\"\n",
    "data_test_label_filename = \"MNIST Dataset/t10k-labels-idx1-ubyte.gz\"\n",
    "data_test['X'], data_test['y'] = read_mnist(data_test_filename, data_test_label_filename)"
   ]
  },
  {
   "cell_type": "markdown",
   "metadata": {},
   "source": [
    "## Display Images"
   ]
  },
  {
   "cell_type": "code",
   "execution_count": 5,
   "metadata": {},
   "outputs": [],
   "source": [
    "def display_image(position):\n",
    "    image = data_train['X'][position].squeeze()\n",
    "    plt.title('Example %d. Label: %d' % (position, data_train['y'][position]))\n",
    "    plt.imshow(image, cmap=plt.cm.gray_r)"
   ]
  },
  {
   "cell_type": "code",
   "execution_count": 6,
   "metadata": {},
   "outputs": [
    {
     "data": {
      "image/png": "[encoded data removed]",
      "text/plain": [
       "<Figure size 432x288 with 1 Axes>"
      ]
     },
     "metadata": {
      "needs_background": "light"
     },
     "output_type": "display_data"
    }
   ],
   "source": [
    "display_image(0)"
   ]
  },
  {
   "cell_type": "markdown",
   "metadata": {},
   "source": [
    "## Observe the training data"
   ]
  },
  {
   "cell_type": "code",
   "execution_count": 7,
   "metadata": {},
   "outputs": [
    {
     "data": {
      "text/html": [
       "<div>\n",
       "<style scoped>\n",
       "    .dataframe tbody tr th:only-of-type {\n",
       "        vertical-align: middle;\n",
       "    }\n",
       "\n",
       "    .dataframe tbody tr th {\n",
       "        vertical-align: top;\n",
       "    }\n",
       "\n",
       "    .dataframe thead th {\n",
       "        text-align: right;\n",
       "    }\n",
       "</style>\n",
       "<table border=\"1\" class=\"dataframe\">\n",
       "  <thead>\n",
       "    <tr style=\"text-align: right;\">\n",
       "      <th></th>\n",
       "      <th>Label</th>\n",
       "      <th>Count</th>\n",
       "    </tr>\n",
       "  </thead>\n",
       "  <tbody>\n",
       "    <tr>\n",
       "      <td>0</td>\n",
       "      <td>0</td>\n",
       "      <td>5923</td>\n",
       "    </tr>\n",
       "    <tr>\n",
       "      <td>1</td>\n",
       "      <td>1</td>\n",
       "      <td>6742</td>\n",
       "    </tr>\n",
       "    <tr>\n",
       "      <td>2</td>\n",
       "      <td>2</td>\n",
       "      <td>5958</td>\n",
       "    </tr>\n",
       "    <tr>\n",
       "      <td>3</td>\n",
       "      <td>3</td>\n",
       "      <td>6131</td>\n",
       "    </tr>\n",
       "    <tr>\n",
       "      <td>4</td>\n",
       "      <td>4</td>\n",
       "      <td>5842</td>\n",
       "    </tr>\n",
       "    <tr>\n",
       "      <td>5</td>\n",
       "      <td>5</td>\n",
       "      <td>5421</td>\n",
       "    </tr>\n",
       "    <tr>\n",
       "      <td>6</td>\n",
       "      <td>6</td>\n",
       "      <td>5918</td>\n",
       "    </tr>\n",
       "    <tr>\n",
       "      <td>7</td>\n",
       "      <td>7</td>\n",
       "      <td>6265</td>\n",
       "    </tr>\n",
       "    <tr>\n",
       "      <td>8</td>\n",
       "      <td>8</td>\n",
       "      <td>5851</td>\n",
       "    </tr>\n",
       "    <tr>\n",
       "      <td>9</td>\n",
       "      <td>9</td>\n",
       "      <td>5949</td>\n",
       "    </tr>\n",
       "  </tbody>\n",
       "</table>\n",
       "</div>"
      ],
      "text/plain": [
       "   Label  Count\n",
       "0      0   5923\n",
       "1      1   6742\n",
       "2      2   5958\n",
       "3      3   6131\n",
       "4      4   5842\n",
       "5      5   5421\n",
       "6      6   5918\n",
       "7      7   6265\n",
       "8      8   5851\n",
       "9      9   5949"
      ]
     },
     "execution_count": 7,
     "metadata": {},
     "output_type": "execute_result"
    }
   ],
   "source": [
    "train_labels_count = np.unique(data_train['y'], return_counts=True)\n",
    "dataframe_train_labels = pd.DataFrame({'Label':train_labels_count[0], 'Count':train_labels_count[1]})\n",
    "dataframe_train_labels"
   ]
  },
  {
   "cell_type": "markdown",
   "metadata": {},
   "source": [
    "The train data is balance for each class, it's good for a dataset to build a good model"
   ]
  },
  {
   "cell_type": "markdown",
   "metadata": {},
   "source": [
    "## Shuffle and split the training data into training and validation"
   ]
  },
  {
   "cell_type": "markdown",
   "metadata": {},
   "source": [
    "Shuffling and splitting our training data into 2 sets: train and validation. While leaving the test data unseen by our model until we are done with the training to avoid a self-fulfilling prophecy."
   ]
  },
  {
   "cell_type": "code",
   "execution_count": 30,
   "metadata": {},
   "outputs": [],
   "source": [
    "# shuffle\n",
    "data_train['X'], data_train['y'] = shuffle(data_train['X'], data_train['y'])"
   ]
  },
  {
   "cell_type": "code",
   "execution_count": 31,
   "metadata": {},
   "outputs": [],
   "source": [
    "# split into train and validation, 20% of validation data and 80% of training data\n",
    "data_validation = {}\n",
    "data_train['X'], data_validation['X'], data_train['y'], data_validation['y'] = train_test_split(data_train['X'], data_train['y'], test_size=0.2, random_state=0)"
   ]
  },
  {
   "cell_type": "code",
   "execution_count": 10,
   "metadata": {},
   "outputs": [
    {
     "data": {
      "text/plain": [
       "48000"
      ]
     },
     "execution_count": 10,
     "metadata": {},
     "output_type": "execute_result"
    }
   ],
   "source": [
    "# check number of data train\n",
    "len(data_train['X'])"
   ]
  },
  {
   "cell_type": "code",
   "execution_count": 11,
   "metadata": {},
   "outputs": [
    {
     "data": {
      "text/plain": [
       "12000"
      ]
     },
     "execution_count": 11,
     "metadata": {},
     "output_type": "execute_result"
    }
   ],
   "source": [
    "# check number of validation\n",
    "len(data_validation['X'])"
   ]
  },
  {
   "cell_type": "markdown",
   "metadata": {},
   "source": [
    "## Prepare Input Images \n",
    "The LeNet architecture accepts a 32x32 pixel images as input, mnist data is 28x28 pixels. We simply pad the images with zeros to overcome that."
   ]
  },
  {
   "cell_type": "code",
   "execution_count": 12,
   "metadata": {},
   "outputs": [
    {
     "name": "stdout",
     "output_type": "stream",
     "text": [
      "Updated Image Shape: (32, 32, 1)\n"
     ]
    }
   ],
   "source": [
    "# Pad images with 0s\n",
    "data_train['X']      = np.pad(data_train['X'], ((0,0),(2,2),(2,2),(0,0)), 'constant')\n",
    "data_validation['X'] = np.pad(data_validation['X'], ((0,0),(2,2),(2,2),(0,0)), 'constant')\n",
    "data_test['X']       = np.pad(data_test['X'], ((0,0),(2,2),(2,2),(0,0)), 'constant')\n",
    "    \n",
    "print(\"Updated Image Shape: {}\".format(data_train['X'][0].shape))"
   ]
  },
  {
   "cell_type": "markdown",
   "metadata": {},
   "source": [
    "## LeNet-5 Implementation"
   ]
  },
  {
   "cell_type": "code",
   "execution_count": 13,
   "metadata": {},
   "outputs": [],
   "source": [
    "# parameters\n",
    "EPOCHS = 50\n",
    "BATCH_SIZE = 128\n",
    "n_classes = 10\n",
    "learning_rate = 0.0002"
   ]
  },
  {
   "cell_type": "code",
   "execution_count": 14,
   "metadata": {},
   "outputs": [
    {
     "name": "stderr",
     "output_type": "stream",
     "text": [
      "Using TensorFlow backend.\n"
     ]
    }
   ],
   "source": [
    "# Importing the required Keras modules containing model and layers\n",
    "from keras.models import Sequential\n",
    "from keras.layers import Dense, Conv2D, Dropout, Flatten, AveragePooling2D\n",
    "\n",
    "def lenet5():\n",
    "    model = Sequential()\n",
    "\n",
    "    model.add(Conv2D(filters=6, kernel_size=(3, 3), activation='relu', input_shape=(32,32,1)))\n",
    "    model.add(AveragePooling2D())\n",
    "\n",
    "    model.add(Conv2D(filters=16, kernel_size=(3, 3), activation='relu'))\n",
    "    model.add(AveragePooling2D())\n",
    "\n",
    "    model.add(Flatten())\n",
    "\n",
    "    model.add(Dense(units=120, activation='relu'))\n",
    "\n",
    "    model.add(Dense(units=84, activation='relu'))\n",
    "\n",
    "    model.add(Dropout(0.2)) # add this droput to overcame overfitting\n",
    "\n",
    "    model.add(Dense(units=10, activation = 'softmax'))\n",
    "\n",
    "    return model\n"
   ]
  },
  {
   "cell_type": "markdown",
   "metadata": {},
   "source": [
    "## Training Model without SVD"
   ]
  },
  {
   "cell_type": "code",
   "execution_count": 15,
   "metadata": {},
   "outputs": [
    {
     "name": "stdout",
     "output_type": "stream",
     "text": [
      "Train on 48000 samples, validate on 12000 samples\n",
      "Epoch 1/20\n",
      "48000/48000 [==============================] - 25s 531us/step - loss: 0.6987 - accuracy: 0.8500 - val_loss: 0.1595 - val_accuracy: 0.9540\n",
      "Epoch 2/20\n",
      "48000/48000 [==============================] - 25s 518us/step - loss: 0.1599 - accuracy: 0.9534 - val_loss: 0.0940 - val_accuracy: 0.9728\n",
      "Epoch 3/20\n",
      "48000/48000 [==============================] - 25s 515us/step - loss: 0.1054 - accuracy: 0.9682 - val_loss: 0.0745 - val_accuracy: 0.9793\n",
      "Epoch 4/20\n",
      "48000/48000 [==============================] - 25s 520us/step - loss: 0.0821 - accuracy: 0.9754 - val_loss: 0.0648 - val_accuracy: 0.9819\n",
      "Epoch 5/20\n",
      "48000/48000 [==============================] - 25s 521us/step - loss: 0.0673 - accuracy: 0.9797 - val_loss: 0.0578 - val_accuracy: 0.9842\n",
      "Epoch 6/20\n",
      "48000/48000 [==============================] - 25s 521us/step - loss: 0.0539 - accuracy: 0.9836 - val_loss: 0.0545 - val_accuracy: 0.9848\n",
      "Epoch 7/20\n",
      "48000/48000 [==============================] - 25s 523us/step - loss: 0.0478 - accuracy: 0.9855 - val_loss: 0.0574 - val_accuracy: 0.9845\n",
      "Epoch 8/20\n",
      "48000/48000 [==============================] - 25s 528us/step - loss: 0.0388 - accuracy: 0.9873 - val_loss: 0.0537 - val_accuracy: 0.9861\n",
      "Epoch 9/20\n",
      "48000/48000 [==============================] - 25s 529us/step - loss: 0.0323 - accuracy: 0.9894 - val_loss: 0.0509 - val_accuracy: 0.9875\n",
      "Epoch 10/20\n",
      "48000/48000 [==============================] - 25s 525us/step - loss: 0.0286 - accuracy: 0.9912 - val_loss: 0.0529 - val_accuracy: 0.9872\n",
      "Epoch 11/20\n",
      "48000/48000 [==============================] - 25s 531us/step - loss: 0.0274 - accuracy: 0.9911 - val_loss: 0.0557 - val_accuracy: 0.9857\n",
      "Epoch 12/20\n",
      "48000/48000 [==============================] - 25s 526us/step - loss: 0.0219 - accuracy: 0.9929 - val_loss: 0.0499 - val_accuracy: 0.9878\n",
      "Epoch 13/20\n",
      "48000/48000 [==============================] - 25s 530us/step - loss: 0.0191 - accuracy: 0.9936 - val_loss: 0.0490 - val_accuracy: 0.9883\n",
      "Epoch 14/20\n",
      "48000/48000 [==============================] - 25s 529us/step - loss: 0.0184 - accuracy: 0.9942 - val_loss: 0.0555 - val_accuracy: 0.9874\n",
      "Epoch 15/20\n",
      "48000/48000 [==============================] - 25s 528us/step - loss: 0.0170 - accuracy: 0.9940 - val_loss: 0.0482 - val_accuracy: 0.9880\n",
      "Epoch 16/20\n",
      "48000/48000 [==============================] - 25s 529us/step - loss: 0.0137 - accuracy: 0.9955 - val_loss: 0.0529 - val_accuracy: 0.9883\n",
      "Epoch 17/20\n",
      "48000/48000 [==============================] - 25s 528us/step - loss: 0.0132 - accuracy: 0.9955 - val_loss: 0.0725 - val_accuracy: 0.9843\n",
      "Epoch 18/20\n",
      "48000/48000 [==============================] - 25s 528us/step - loss: 0.0114 - accuracy: 0.9961 - val_loss: 0.0549 - val_accuracy: 0.9887\n",
      "Epoch 19/20\n",
      "48000/48000 [==============================] - 26s 533us/step - loss: 0.0113 - accuracy: 0.9959 - val_loss: 0.0513 - val_accuracy: 0.9892\n",
      "Epoch 20/20\n",
      "48000/48000 [==============================] - 25s 530us/step - loss: 0.0089 - accuracy: 0.9972 - val_loss: 0.0555 - val_accuracy: 0.9877\n"
     ]
    }
   ],
   "source": [
    "from keras.optimizers import Adam\n",
    "model_without_svd = lenet5()\n",
    "optimizer = Adam(lr=learning_rate)\n",
    "model_without_svd.compile(optimizer= optimizer, \n",
    "              loss='sparse_categorical_crossentropy', \n",
    "              metrics=['accuracy'])\n",
    "original = model_without_svd.fit(x=data_train['X'],y=data_train['y'], epochs=EPOCHS,  \n",
    "                    # We pass some validation for\n",
    "                    # monitoring validation loss and metrics\n",
    "                    # at the end of each epoch\n",
    "                    validation_data=(data_validation['X'], data_validation['y']))"
   ]
  },
  {
   "cell_type": "markdown",
   "metadata": {},
   "source": [
    "### Visualize the training process performance"
   ]
  },
  {
   "cell_type": "code",
   "execution_count": 16,
   "metadata": {},
   "outputs": [
    {
     "name": "stdout",
     "output_type": "stream",
     "text": [
      "dict_keys(['val_loss', 'val_accuracy', 'loss', 'accuracy'])\n"
     ]
    },
    {
     "data": {
      "image/png": "[encoded data removed]",
      "text/plain": [
       "<Figure size 432x288 with 1 Axes>"
      ]
     },
     "metadata": {
      "needs_background": "light"
     },
     "output_type": "display_data"
    },
    {
     "data": {
      "image/png": "[encoded data removed]",
      "text/plain": [
       "<Figure size 432x288 with 1 Axes>"
      ]
     },
     "metadata": {
      "needs_background": "light"
     },
     "output_type": "display_data"
    }
   ],
   "source": [
    "# Plot data\n",
    "# list all data in history\n",
    "print(original.history.keys())\n",
    "# summarize history for accuracy\n",
    "x_axis = np.arange(1,EPOCHS+1)\n",
    "plt.plot(x_axis,original.history['accuracy'])\n",
    "plt.plot(x_axis,original.history['val_accuracy'])\n",
    "plt.title('Model Accuracy')\n",
    "plt.ylabel('Accuracy')\n",
    "plt.xlabel('Epoch')\n",
    "plt.legend(['Train', 'Validation'], loc='upper left')\n",
    "plt.show()\n",
    "# summarize history for loss\n",
    "plt.plot(x_axis,original.history['loss'])\n",
    "plt.plot(x_axis,original.history['val_loss'])\n",
    "plt.title('Model Loss')\n",
    "plt.ylabel('Accuracy')\n",
    "plt.xlabel('Epoch')\n",
    "plt.legend(['Train', 'Validation'], loc='upper left')\n",
    "plt.show()"
   ]
  },
  {
   "cell_type": "markdown",
   "metadata": {},
   "source": [
    "## Testing Model without SVD"
   ]
  },
  {
   "cell_type": "code",
   "execution_count": 18,
   "metadata": {},
   "outputs": [
    {
     "name": "stdout",
     "output_type": "stream",
     "text": [
      "10000/10000 [==============================] - 2s 234us/step\n",
      "Model Loss : 0.0503 - Accuracy : 0.9878\n"
     ]
    }
   ],
   "source": [
    "test_result = model_without_svd.evaluate(data_test['X'], data_test['y'])\n",
    "print(\"Model Loss : {:.4f} - Accuracy : {:.4f}\".format(test_result[0],test_result[1]))"
   ]
  },
  {
   "cell_type": "markdown",
   "metadata": {},
   "source": [
    "## SVD Implementation"
   ]
  },
  {
   "cell_type": "code",
   "execution_count": 19,
   "metadata": {},
   "outputs": [],
   "source": [
    "def get_reduced_data(features, number_of_components):\n",
    "    \"\"\"\n",
    "    This method process all original data to low rank data using SVD, and reconstruct using some components.\n",
    "    Result of the dimension of features is same, so no dimension reduction but keep the data lower.\n",
    "    Input : features , number_of_components\n",
    "    Output : reduced_features\n",
    "    \"\"\"\n",
    "    \n",
    "    reduced_features = []\n",
    "    # iterate over features\n",
    "    for i in range(len(features)):\n",
    "        # obtain svd without the channel 32x32xC\n",
    "        U, S, V = np.linalg.svd(features[i].squeeze())\n",
    "        # construct the matrix to lower rank\n",
    "        reduced_feature = U[:, :number_of_components] @ np.diag(S[:number_of_components]) @ V[:number_of_components , :]\n",
    "        # append to the list and add channel again so 32x32x1\n",
    "        reduced_features.append(reduced_feature[:,:,np.newaxis]) \n",
    "    \n",
    "    return np.array(reduced_features) # convert from list to array"
   ]
  },
  {
   "cell_type": "markdown",
   "metadata": {},
   "source": [
    "### Visualize the Image from reduced data"
   ]
  },
  {
   "cell_type": "code",
   "execution_count": 20,
   "metadata": {},
   "outputs": [
    {
     "data": {
      "text/plain": [
       "array([[0., 0., 0., ..., 0., 0., 0.],\n",
       "       [0., 0., 0., ..., 0., 0., 0.],\n",
       "       [0., 0., 0., ..., 0., 0., 0.],\n",
       "       ...,\n",
       "       [0., 0., 0., ..., 0., 0., 0.],\n",
       "       [0., 0., 0., ..., 0., 0., 0.],\n",
       "       [0., 0., 0., ..., 0., 0., 0.]])"
      ]
     },
     "execution_count": 20,
     "metadata": {},
     "output_type": "execute_result"
    }
   ],
   "source": [
    "# components that we use, less than the original dimension\n",
    "num_of_components = 6\n",
    "\n",
    "# get SVD\n",
    "U, S, V = np.linalg.svd(data_train['X'][0].squeeze())\n",
    "# reconstruct the matrix to low rank matrix with 15 components \n",
    "low_rank = U[:, :num_of_components] @ np.diag(S[:num_of_components]) @ V[:num_of_components, :]\n",
    "low_rank"
   ]
  },
  {
   "cell_type": "code",
   "execution_count": 21,
   "metadata": {},
   "outputs": [
    {
     "data": {
      "text/plain": [
       "<matplotlib.image.AxesImage at 0x7f4f5c7df190>"
      ]
     },
     "execution_count": 21,
     "metadata": {},
     "output_type": "execute_result"
    },
    {
     "data": {
      "image/png": "[encoded data removed]",
      "text/plain": [
       "<Figure size 432x288 with 1 Axes>"
      ]
     },
     "metadata": {
      "needs_background": "light"
     },
     "output_type": "display_data"
    }
   ],
   "source": [
    "# show images\n",
    "plt.imshow(low_rank.squeeze(), cmap=plt.cm.gray_r)"
   ]
  },
  {
   "cell_type": "code",
   "execution_count": 22,
   "metadata": {},
   "outputs": [
    {
     "data": {
      "image/png": "[encoded data removed]",
      "text/plain": [
       "<Figure size 432x288 with 1 Axes>"
      ]
     },
     "metadata": {
      "needs_background": "light"
     },
     "output_type": "display_data"
    }
   ],
   "source": [
    "# original image\n",
    "display_image(0)"
   ]
  },
  {
   "cell_type": "markdown",
   "metadata": {},
   "source": [
    "### Get reduced data for Data Training, Data Validation, and Data Testing"
   ]
  },
  {
   "cell_type": "code",
   "execution_count": 23,
   "metadata": {},
   "outputs": [],
   "source": [
    "data_train_SVD = get_reduced_data(data_train['X'], num_of_components)\n",
    "data_test_SVD = get_reduced_data(data_test['X'], num_of_components)\n",
    "data_validation_SVD = get_reduced_data(data_validation['X'], num_of_components)"
   ]
  },
  {
   "cell_type": "markdown",
   "metadata": {},
   "source": [
    "## Training Model with SVD"
   ]
  },
  {
   "cell_type": "code",
   "execution_count": 25,
   "metadata": {},
   "outputs": [
    {
     "name": "stdout",
     "output_type": "stream",
     "text": [
      "Train on 48000 samples, validate on 12000 samples\n",
      "Epoch 1/20\n",
      "48000/48000 [==============================] - 26s 546us/step - loss: 0.4025 - accuracy: 0.8992 - val_loss: 0.1253 - val_accuracy: 0.9638\n",
      "Epoch 2/20\n",
      "48000/48000 [==============================] - 25s 522us/step - loss: 0.1294 - accuracy: 0.9605 - val_loss: 0.0909 - val_accuracy: 0.9735\n",
      "Epoch 3/20\n",
      "48000/48000 [==============================] - 25s 522us/step - loss: 0.0929 - accuracy: 0.9720 - val_loss: 0.0798 - val_accuracy: 0.9771\n",
      "Epoch 4/20\n",
      "48000/48000 [==============================] - 25s 525us/step - loss: 0.0736 - accuracy: 0.9775 - val_loss: 0.0744 - val_accuracy: 0.9795\n",
      "Epoch 5/20\n",
      "48000/48000 [==============================] - 25s 529us/step - loss: 0.0589 - accuracy: 0.9819 - val_loss: 0.0664 - val_accuracy: 0.9825\n",
      "Epoch 6/20\n",
      "48000/48000 [==============================] - 25s 527us/step - loss: 0.0492 - accuracy: 0.9851 - val_loss: 0.0626 - val_accuracy: 0.9829\n",
      "Epoch 7/20\n",
      "48000/48000 [==============================] - 25s 527us/step - loss: 0.0436 - accuracy: 0.9866 - val_loss: 0.0591 - val_accuracy: 0.9828\n",
      "Epoch 8/20\n",
      "48000/48000 [==============================] - 25s 530us/step - loss: 0.0346 - accuracy: 0.9889 - val_loss: 0.0580 - val_accuracy: 0.9853\n",
      "Epoch 9/20\n",
      "48000/48000 [==============================] - 25s 530us/step - loss: 0.0302 - accuracy: 0.9905 - val_loss: 0.0619 - val_accuracy: 0.9848\n",
      "Epoch 10/20\n",
      "48000/48000 [==============================] - 26s 532us/step - loss: 0.0286 - accuracy: 0.9907 - val_loss: 0.0531 - val_accuracy: 0.9862\n",
      "Epoch 11/20\n",
      "48000/48000 [==============================] - 25s 531us/step - loss: 0.0235 - accuracy: 0.9927 - val_loss: 0.0592 - val_accuracy: 0.9864\n",
      "Epoch 12/20\n",
      "48000/48000 [==============================] - 26s 531us/step - loss: 0.0198 - accuracy: 0.9931 - val_loss: 0.0549 - val_accuracy: 0.9866\n",
      "Epoch 13/20\n",
      "48000/48000 [==============================] - 26s 538us/step - loss: 0.0179 - accuracy: 0.9940 - val_loss: 0.0525 - val_accuracy: 0.9872\n",
      "Epoch 14/20\n",
      "48000/48000 [==============================] - 26s 533us/step - loss: 0.0158 - accuracy: 0.9949 - val_loss: 0.0581 - val_accuracy: 0.9862\n",
      "Epoch 15/20\n",
      "48000/48000 [==============================] - 26s 537us/step - loss: 0.0144 - accuracy: 0.9951 - val_loss: 0.0619 - val_accuracy: 0.9867\n",
      "Epoch 16/20\n",
      "48000/48000 [==============================] - 26s 537us/step - loss: 0.0136 - accuracy: 0.9957 - val_loss: 0.0589 - val_accuracy: 0.9878\n",
      "Epoch 17/20\n",
      "48000/48000 [==============================] - 26s 537us/step - loss: 0.0114 - accuracy: 0.9963 - val_loss: 0.0600 - val_accuracy: 0.9865\n",
      "Epoch 18/20\n",
      "48000/48000 [==============================] - 26s 534us/step - loss: 0.0110 - accuracy: 0.9963 - val_loss: 0.0622 - val_accuracy: 0.9880\n",
      "Epoch 19/20\n",
      "48000/48000 [==============================] - 26s 533us/step - loss: 0.0106 - accuracy: 0.9965 - val_loss: 0.0613 - val_accuracy: 0.9875\n",
      "Epoch 20/20\n",
      "48000/48000 [==============================] - 26s 537us/step - loss: 0.0099 - accuracy: 0.9966 - val_loss: 0.0680 - val_accuracy: 0.9871\n"
     ]
    }
   ],
   "source": [
    "model_with_svd = lenet5()\n",
    "model_with_svd.compile(optimizer= optimizer, \n",
    "              loss='sparse_categorical_crossentropy', \n",
    "              metrics=['accuracy'])\n",
    "model_svd = model_with_svd.fit(x=data_train_SVD,y=data_train['y'], epochs=EPOCHS,  \n",
    "                    # We pass some validation for\n",
    "                    # monitoring validation loss and metrics\n",
    "                    # at the end of each epoch\n",
    "                    validation_data=(data_validation_SVD, data_validation['y']))"
   ]
  },
  {
   "cell_type": "markdown",
   "metadata": {},
   "source": [
    "### Visualize the training process performance"
   ]
  },
  {
   "cell_type": "code",
   "execution_count": 26,
   "metadata": {},
   "outputs": [
    {
     "name": "stdout",
     "output_type": "stream",
     "text": [
      "dict_keys(['val_loss', 'val_accuracy', 'loss', 'accuracy'])\n"
     ]
    },
    {
     "data": {
      "image/png": "[encoded data removed]",
      "text/plain": [
       "<Figure size 432x288 with 1 Axes>"
      ]
     },
     "metadata": {
      "needs_background": "light"
     },
     "output_type": "display_data"
    },
    {
     "data": {
      "image/png": "[encoded data removed]",
      "text/plain": [
       "<Figure size 432x288 with 1 Axes>"
      ]
     },
     "metadata": {
      "needs_background": "light"
     },
     "output_type": "display_data"
    }
   ],
   "source": [
    "# Plot data\n",
    "# list all data in history\n",
    "print(model_svd.history.keys())\n",
    "# summarize history for accuracy\n",
    "x_axis = np.arange(1,EPOCHS+1)\n",
    "plt.plot(x_axis,model_svd.history['accuracy'])\n",
    "plt.plot(x_axis,model_svd.history['val_accuracy'])\n",
    "plt.title('Model Accuracy')\n",
    "plt.ylabel('Accuracy')\n",
    "plt.xlabel('Epoch')\n",
    "plt.legend(['Train', 'Validation'], loc='upper left')\n",
    "plt.show()\n",
    "# summarize history for loss\n",
    "plt.plot(x_axis,model_svd.history['loss'])\n",
    "plt.plot(x_axis,model_svd.history['val_loss'])\n",
    "plt.title('Model Loss')\n",
    "plt.ylabel('Accuracy')\n",
    "plt.xlabel('Epoch')\n",
    "plt.legend(['Train', 'Validation'], loc='upper left')\n",
    "plt.show()"
   ]
  },
  {
   "cell_type": "markdown",
   "metadata": {},
   "source": [
    "## Testing Model with SVD"
   ]
  },
  {
   "cell_type": "code",
   "execution_count": 27,
   "metadata": {},
   "outputs": [
    {
     "name": "stdout",
     "output_type": "stream",
     "text": [
      "10000/10000 [==============================] - 2s 221us/step\n",
      "Model Loss : 0.0580 - Accuracy : 0.9862\n"
     ]
    }
   ],
   "source": [
    "test_result = model_with_svd.evaluate(data_test_SVD, data_test['y'])\n",
    "print(\"Model Loss : {:.4f} - Accuracy : {:.4f}\".format(test_result[0],test_result[1]))"
   ]
  },
  {
   "cell_type": "markdown",
   "metadata": {},
   "source": [
    "## Observe the number of components to test result"
   ]
  },
  {
   "cell_type": "code",
   "execution_count": 28,
   "metadata": {},
   "outputs": [
    {
     "data": {
      "text/plain": [
       "array([ 2,  4,  6,  8, 10, 12, 14, 16, 18, 20, 22, 24, 26, 28, 30])"
      ]
     },
     "execution_count": 28,
     "metadata": {},
     "output_type": "execute_result"
    }
   ],
   "source": [
    "acc_test_list = []\n",
    "required_time_list = []\n",
    "num_of_components_list = np.arange(2,32,2)\n",
    "num_of_components_list"
   ]
  },
  {
   "cell_type": "code",
   "execution_count": 29,
   "metadata": {},
   "outputs": [
    {
     "name": "stdout",
     "output_type": "stream",
     "text": [
      "\n",
      "\n",
      "SVD Implementation with components 2\n",
      "Preprocessing all data...\n",
      "Training model...\n"
     ]
    },
    {
     "ename": "RuntimeError",
     "evalue": "You must compile a model before training/testing. Use `model.compile(optimizer, loss)`.",
     "output_type": "error",
     "traceback": [
      "\u001b[0;31m---------------------------------------------------------------------------\u001b[0m",
      "\u001b[0;31mRuntimeError\u001b[0m                              Traceback (most recent call last)",
      "\u001b[0;32m<ipython-input-29-ab0ab9704876>\u001b[0m in \u001b[0;36m<module>\u001b[0;34m\u001b[0m\n\u001b[1;32m     15\u001b[0m                     \u001b[0;31m# monitoring validation loss and metrics\u001b[0m\u001b[0;34m\u001b[0m\u001b[0;34m\u001b[0m\u001b[0;34m\u001b[0m\u001b[0m\n\u001b[1;32m     16\u001b[0m                     \u001b[0;31m# at the end of each epoch\u001b[0m\u001b[0;34m\u001b[0m\u001b[0;34m\u001b[0m\u001b[0;34m\u001b[0m\u001b[0m\n\u001b[0;32m---> 17\u001b[0;31m                     validation_data=(data_validation_SVD, data_validation['y']))\n\u001b[0m\u001b[1;32m     18\u001b[0m \u001b[0;34m\u001b[0m\u001b[0m\n\u001b[1;32m     19\u001b[0m     \u001b[0mprint\u001b[0m\u001b[0;34m(\u001b[0m\u001b[0;34m\"Testing model...\"\u001b[0m\u001b[0;34m)\u001b[0m\u001b[0;34m\u001b[0m\u001b[0;34m\u001b[0m\u001b[0m\n",
      "\u001b[0;32m~/anaconda3/lib/python3.7/site-packages/keras/engine/training.py\u001b[0m in \u001b[0;36mfit\u001b[0;34m(self, x, y, batch_size, epochs, verbose, callbacks, validation_split, validation_data, shuffle, class_weight, sample_weight, initial_epoch, steps_per_epoch, validation_steps, validation_freq, max_queue_size, workers, use_multiprocessing, **kwargs)\u001b[0m\n\u001b[1;32m   1152\u001b[0m             \u001b[0msample_weight\u001b[0m\u001b[0;34m=\u001b[0m\u001b[0msample_weight\u001b[0m\u001b[0;34m,\u001b[0m\u001b[0;34m\u001b[0m\u001b[0;34m\u001b[0m\u001b[0m\n\u001b[1;32m   1153\u001b[0m             \u001b[0mclass_weight\u001b[0m\u001b[0;34m=\u001b[0m\u001b[0mclass_weight\u001b[0m\u001b[0;34m,\u001b[0m\u001b[0;34m\u001b[0m\u001b[0;34m\u001b[0m\u001b[0m\n\u001b[0;32m-> 1154\u001b[0;31m             batch_size=batch_size)\n\u001b[0m\u001b[1;32m   1155\u001b[0m \u001b[0;34m\u001b[0m\u001b[0m\n\u001b[1;32m   1156\u001b[0m         \u001b[0;31m# Prepare validation data.\u001b[0m\u001b[0;34m\u001b[0m\u001b[0;34m\u001b[0m\u001b[0;34m\u001b[0m\u001b[0m\n",
      "\u001b[0;32m~/anaconda3/lib/python3.7/site-packages/keras/engine/training.py\u001b[0m in \u001b[0;36m_standardize_user_data\u001b[0;34m(self, x, y, sample_weight, class_weight, check_array_lengths, batch_size)\u001b[0m\n\u001b[1;32m    506\u001b[0m         \u001b[0;32mif\u001b[0m \u001b[0my\u001b[0m \u001b[0;32mis\u001b[0m \u001b[0;32mnot\u001b[0m \u001b[0;32mNone\u001b[0m\u001b[0;34m:\u001b[0m\u001b[0;34m\u001b[0m\u001b[0;34m\u001b[0m\u001b[0m\n\u001b[1;32m    507\u001b[0m             \u001b[0;32mif\u001b[0m \u001b[0;32mnot\u001b[0m \u001b[0mself\u001b[0m\u001b[0;34m.\u001b[0m\u001b[0moptimizer\u001b[0m\u001b[0;34m:\u001b[0m\u001b[0;34m\u001b[0m\u001b[0;34m\u001b[0m\u001b[0m\n\u001b[0;32m--> 508\u001b[0;31m                 raise RuntimeError('You must compile a model before '\n\u001b[0m\u001b[1;32m    509\u001b[0m                                    \u001b[0;34m'training/testing. '\u001b[0m\u001b[0;34m\u001b[0m\u001b[0;34m\u001b[0m\u001b[0m\n\u001b[1;32m    510\u001b[0m                                    'Use `model.compile(optimizer, loss)`.')\n",
      "\u001b[0;31mRuntimeError\u001b[0m: You must compile a model before training/testing. Use `model.compile(optimizer, loss)`."
     ]
    }
   ],
   "source": [
    "model_with_svd = lenet5()\n",
    "model_with_svd.compile(optimizer= optimizer, \n",
    "              loss='sparse_categorical_crossentropy', \n",
    "              metrics=['accuracy'])\n",
    "for num_components in num_of_components_list:\n",
    "    print(\"\\n\")\n",
    "    print(\"SVD Implementation with components {}\".format(num_components))\n",
    "    start_time = time.time()\n",
    "    print(\"Preprocessing all data...\")\n",
    "    # pre processing\n",
    "    data_train_SVD = get_reduced_data(data_train['X'], num_components)\n",
    "    data_test_SVD = get_reduced_data(data_test['X'], num_components)\n",
    "    data_validation_SVD = get_reduced_data(data_validation['X'], num_components)\n",
    "    print(\"Training model...\")\n",
    "    # training\n",
    "    model_with_svd.fit(x=data_train_SVD,y=data_train['y'], epochs=EPOCHS,  \n",
    "                    # We pass some validation for\n",
    "                    # monitoring validation loss and metrics\n",
    "                    # at the end of each epoch\n",
    "                    validation_data=(data_validation_SVD, data_validation['y']))\n",
    "    \n",
    "    print(\"Testing model...\")\n",
    "    # testing\n",
    "    test_result = model_with_svd.evaluate(data_test_SVD, data_test['y'])\n",
    "    print(\"Model Loss : {:.4f} - Accuracy : {:.4f}\".format(test_result[0],test_result[1]))\n",
    "    required_time = time.time() - start_time\n",
    "    print(\"--- %s seconds ---\" % (required_time))\n",
    "    acc_test_list.append(test_result[1]) # append accuracy result to list\n",
    "    required_time_list.append(required_time)\n",
    "    "
   ]
  },
  {
   "cell_type": "code",
   "execution_count": null,
   "metadata": {},
   "outputs": [],
   "source": [
    "plt.plot(num_of_components_list,acc_test_list)\n",
    "plt.title('Accuracy on Testing Data SVD')\n",
    "plt.ylabel('Accuracy')\n",
    "plt.xlabel('Number of Components')\n",
    "plt.show()"
   ]
  },
  {
   "cell_type": "markdown",
   "metadata": {},
   "source": [
    "18 number components of SVD gives the highest accuracy"
   ]
  },
  {
   "cell_type": "code",
   "execution_count": null,
   "metadata": {},
   "outputs": [],
   "source": []
  },
  {
   "cell_type": "code",
   "execution_count": null,
   "metadata": {},
   "outputs": [],
   "source": []
  }
 ],
 "metadata": {
  "kernelspec": {
   "display_name": "Python 3",
   "language": "python",
   "name": "python3"
  },
  "language_info": {
   "codemirror_mode": {
    "name": "ipython",
    "version": 3
   },
   "file_extension": ".py",
   "mimetype": "text/x-python",
   "name": "python",
   "nbconvert_exporter": "python",
   "pygments_lexer": "ipython3",
   "version": "3.7.4"
  }
 },
 "nbformat": 4,
 "nbformat_minor": 2
}
