{
 "cells": [
  {
   "cell_type": "markdown",
   "metadata": {},
   "source": [
    "# LeNet-5 with SVD\n",
    "Author : Satrya Budi Pratama"
   ]
  },
  {
   "cell_type": "code",
   "execution_count": 213,
   "metadata": {},
   "outputs": [],
   "source": [
    "import gzip\n",
    "import numpy as np\n",
    "import pandas as pd\n",
    "\n",
    "from sklearn.model_selection import train_test_split\n",
    "from sklearn.utils import shuffle\n",
    "import tensorflow as tf\n",
    "\n",
    "%matplotlib inline\n",
    "import matplotlib.pyplot as plt\n",
    "import seaborn as sns\n",
    "sns.set()\n",
    "\n",
    "import time"
   ]
  },
  {
   "cell_type": "markdown",
   "metadata": {},
   "source": [
    "## Load Dataset"
   ]
  },
  {
   "cell_type": "code",
   "execution_count": 2,
   "metadata": {},
   "outputs": [],
   "source": [
    "def read_mnist(images_path, labels_path):\n",
    "    \"\"\"\n",
    "        This method load extracted file of MNIST\n",
    "        input : images_path,labels_path\n",
    "        return : features, labels\n",
    "    \"\"\"\n",
    "    \n",
    "    with gzip.open(labels_path, 'rb') as labelsFile:\n",
    "        labels = np.frombuffer(labelsFile.read(), dtype=np.uint8, offset=8)\n",
    "\n",
    "    with gzip.open(images_path,'rb') as imagesFile:\n",
    "        length = len(labels)\n",
    "        # Load flat 28x28 px images (784 px), and convert them to 28x28 px\n",
    "        features = np.frombuffer(imagesFile.read(), dtype=np.uint8, offset=16) \\\n",
    "                        .reshape(length, 784) \\\n",
    "                        .reshape(length, 28, 28, 1)\n",
    "        \n",
    "    return features, labels"
   ]
  },
  {
   "cell_type": "markdown",
   "metadata": {},
   "source": [
    "### Training Data"
   ]
  },
  {
   "cell_type": "code",
   "execution_count": 3,
   "metadata": {},
   "outputs": [],
   "source": [
    "data_train = {}\n",
    "data_train_filename = \"MNIST Dataset/train-images-idx3-ubyte.gz\"\n",
    "data_train_label_filename = \"MNIST Dataset/train-labels-idx1-ubyte.gz\"\n",
    "data_train['X'], data_train['y'] = read_mnist(data_train_filename,data_train_label_filename)"
   ]
  },
  {
   "cell_type": "markdown",
   "metadata": {},
   "source": [
    "### Testing Data"
   ]
  },
  {
   "cell_type": "code",
   "execution_count": 4,
   "metadata": {},
   "outputs": [],
   "source": [
    "data_test = {}\n",
    "data_test_filename = \"MNIST Dataset/t10k-images-idx3-ubyte.gz\"\n",
    "data_test_label_filename = \"MNIST Dataset/t10k-labels-idx1-ubyte.gz\"\n",
    "data_test['X'], data_test['y'] = read_mnist(data_test_filename, data_test_label_filename)"
   ]
  },
  {
   "cell_type": "markdown",
   "metadata": {},
   "source": [
    "## Display Images"
   ]
  },
  {
   "cell_type": "code",
   "execution_count": 5,
   "metadata": {},
   "outputs": [],
   "source": [
    "def display_image(position):\n",
    "    image = data_train['X'][position].squeeze()\n",
    "    plt.title('Example %d. Label: %d' % (position, data_train['y'][position]))\n",
    "    plt.imshow(image, cmap=plt.cm.gray_r)"
   ]
  },
  {
   "cell_type": "code",
   "execution_count": 6,
   "metadata": {},
   "outputs": [
    {
     "data": {
      "image/png": "[encoded data removed]",
      "text/plain": [
       "<Figure size 432x288 with 1 Axes>"
      ]
     },
     "metadata": {
      "needs_background": "light"
     },
     "output_type": "display_data"
    }
   ],
   "source": [
    "display_image(0)"
   ]
  },
  {
   "cell_type": "markdown",
   "metadata": {},
   "source": [
    "## Observe the training data"
   ]
  },
  {
   "cell_type": "code",
   "execution_count": 7,
   "metadata": {},
   "outputs": [
    {
     "data": {
      "text/html": [
       "<div>\n",
       "<style scoped>\n",
       "    .dataframe tbody tr th:only-of-type {\n",
       "        vertical-align: middle;\n",
       "    }\n",
       "\n",
       "    .dataframe tbody tr th {\n",
       "        vertical-align: top;\n",
       "    }\n",
       "\n",
       "    .dataframe thead th {\n",
       "        text-align: right;\n",
       "    }\n",
       "</style>\n",
       "<table border=\"1\" class=\"dataframe\">\n",
       "  <thead>\n",
       "    <tr style=\"text-align: right;\">\n",
       "      <th></th>\n",
       "      <th>Label</th>\n",
       "      <th>Count</th>\n",
       "    </tr>\n",
       "  </thead>\n",
       "  <tbody>\n",
       "    <tr>\n",
       "      <td>0</td>\n",
       "      <td>0</td>\n",
       "      <td>5923</td>\n",
       "    </tr>\n",
       "    <tr>\n",
       "      <td>1</td>\n",
       "      <td>1</td>\n",
       "      <td>6742</td>\n",
       "    </tr>\n",
       "    <tr>\n",
       "      <td>2</td>\n",
       "      <td>2</td>\n",
       "      <td>5958</td>\n",
       "    </tr>\n",
       "    <tr>\n",
       "      <td>3</td>\n",
       "      <td>3</td>\n",
       "      <td>6131</td>\n",
       "    </tr>\n",
       "    <tr>\n",
       "      <td>4</td>\n",
       "      <td>4</td>\n",
       "      <td>5842</td>\n",
       "    </tr>\n",
       "    <tr>\n",
       "      <td>5</td>\n",
       "      <td>5</td>\n",
       "      <td>5421</td>\n",
       "    </tr>\n",
       "    <tr>\n",
       "      <td>6</td>\n",
       "      <td>6</td>\n",
       "      <td>5918</td>\n",
       "    </tr>\n",
       "    <tr>\n",
       "      <td>7</td>\n",
       "      <td>7</td>\n",
       "      <td>6265</td>\n",
       "    </tr>\n",
       "    <tr>\n",
       "      <td>8</td>\n",
       "      <td>8</td>\n",
       "      <td>5851</td>\n",
       "    </tr>\n",
       "    <tr>\n",
       "      <td>9</td>\n",
       "      <td>9</td>\n",
       "      <td>5949</td>\n",
       "    </tr>\n",
       "  </tbody>\n",
       "</table>\n",
       "</div>"
      ],
      "text/plain": [
       "   Label  Count\n",
       "0      0   5923\n",
       "1      1   6742\n",
       "2      2   5958\n",
       "3      3   6131\n",
       "4      4   5842\n",
       "5      5   5421\n",
       "6      6   5918\n",
       "7      7   6265\n",
       "8      8   5851\n",
       "9      9   5949"
      ]
     },
     "execution_count": 7,
     "metadata": {},
     "output_type": "execute_result"
    }
   ],
   "source": [
    "train_labels_count = np.unique(data_train['y'], return_counts=True)\n",
    "dataframe_train_labels = pd.DataFrame({'Label':train_labels_count[0], 'Count':train_labels_count[1]})\n",
    "dataframe_train_labels"
   ]
  },
  {
   "cell_type": "markdown",
   "metadata": {},
   "source": [
    "The train data is balance for each class, it's good for a dataset to build a good model"
   ]
  },
  {
   "cell_type": "markdown",
   "metadata": {},
   "source": [
    "## Shuffle and split the training data into training and validation"
   ]
  },
  {
   "cell_type": "markdown",
   "metadata": {},
   "source": [
    "Shuffling and splitting our training data into 2 sets: train and validation. While leaving the test data unseen by our model until we are done with the training to avoid a self-fulfilling prophecy."
   ]
  },
  {
   "cell_type": "code",
   "execution_count": 8,
   "metadata": {},
   "outputs": [],
   "source": [
    "# shuffle\n",
    "data_train['X'], data_train['y'] = shuffle(data_train['X'], data_train['y'])"
   ]
  },
  {
   "cell_type": "code",
   "execution_count": 9,
   "metadata": {},
   "outputs": [],
   "source": [
    "# split into train and validation, 20% of validation data and 80% of training data\n",
    "data_validation = {}\n",
    "data_train['X'], data_validation['X'], data_train['y'], data_validation['y'] = train_test_split(data_train['X'], data_train['y'], test_size=0.2, random_state=0)"
   ]
  },
  {
   "cell_type": "code",
   "execution_count": 10,
   "metadata": {},
   "outputs": [
    {
     "data": {
      "text/plain": [
       "48000"
      ]
     },
     "execution_count": 10,
     "metadata": {},
     "output_type": "execute_result"
    }
   ],
   "source": [
    "# check number of data train\n",
    "len(data_train['X'])"
   ]
  },
  {
   "cell_type": "code",
   "execution_count": 11,
   "metadata": {},
   "outputs": [
    {
     "data": {
      "text/plain": [
       "12000"
      ]
     },
     "execution_count": 11,
     "metadata": {},
     "output_type": "execute_result"
    }
   ],
   "source": [
    "# check number of validation\n",
    "len(data_validation['X'])"
   ]
  },
  {
   "cell_type": "markdown",
   "metadata": {},
   "source": [
    "## Prepare Input Images \n",
    "The LeNet architecture accepts a 32x32 pixel images as input, mnist data is 28x28 pixels. We simply pad the images with zeros to overcome that."
   ]
  },
  {
   "cell_type": "code",
   "execution_count": 12,
   "metadata": {},
   "outputs": [
    {
     "name": "stdout",
     "output_type": "stream",
     "text": [
      "Updated Image Shape: (32, 32, 1)\n"
     ]
    }
   ],
   "source": [
    "# Pad images with 0s\n",
    "data_train['X']      = np.pad(data_train['X'], ((0,0),(2,2),(2,2),(0,0)), 'constant')\n",
    "data_validation['X'] = np.pad(data_validation['X'], ((0,0),(2,2),(2,2),(0,0)), 'constant')\n",
    "data_test['X']       = np.pad(data_test['X'], ((0,0),(2,2),(2,2),(0,0)), 'constant')\n",
    "    \n",
    "print(\"Updated Image Shape: {}\".format(data_train['X'][0].shape))"
   ]
  },
  {
   "cell_type": "markdown",
   "metadata": {},
   "source": [
    "## LeNet-5 Implementation"
   ]
  },
  {
   "cell_type": "code",
   "execution_count": 239,
   "metadata": {},
   "outputs": [],
   "source": [
    "# parameters\n",
    "EPOCHS = 20\n",
    "BATCH_SIZE = 128\n",
    "n_classes = 10\n",
    "learning_rate = 0.0002"
   ]
  },
  {
   "cell_type": "code",
   "execution_count": 244,
   "metadata": {},
   "outputs": [],
   "source": [
    "# Importing the required Keras modules containing model and layers\n",
    "from keras.models import Sequential\n",
    "from keras.layers import Dense, Conv2D, Dropout, Flatten, AveragePooling2D\n",
    "\n",
    "def lenet5():\n",
    "    model = Sequential()\n",
    "\n",
    "    model.add(Conv2D(filters=6, kernel_size=(3, 3), activation='relu', input_shape=(32,32,1)))\n",
    "    model.add(AveragePooling2D())\n",
    "\n",
    "    model.add(Conv2D(filters=16, kernel_size=(3, 3), activation='relu'))\n",
    "    model.add(AveragePooling2D())\n",
    "\n",
    "    model.add(Flatten())\n",
    "\n",
    "    model.add(Dense(units=120, activation='relu'))\n",
    "\n",
    "    model.add(Dense(units=84, activation='relu'))\n",
    "\n",
    "    model.add(Dropout(0.2)) # add this droput to overcame overfitting\n",
    "\n",
    "    model.add(Dense(units=10, activation = 'softmax'))\n",
    "\n",
    "    return model\n"
   ]
  },
  {
   "cell_type": "markdown",
   "metadata": {},
   "source": [
    "## Training Model without SVD"
   ]
  },
  {
   "cell_type": "code",
   "execution_count": null,
   "metadata": {},
   "outputs": [
    {
     "name": "stdout",
     "output_type": "stream",
     "text": [
      "Train on 48000 samples, validate on 12000 samples\n",
      "Epoch 1/11\n",
      "48000/48000 [==============================] - 27s 557us/step - loss: 0.7000 - accuracy: 0.8414 - val_loss: 0.1429 - val_accuracy: 0.9572\n",
      "Epoch 2/11\n",
      "48000/48000 [==============================] - 26s 545us/step - loss: 0.1498 - accuracy: 0.9552 - val_loss: 0.0846 - val_accuracy: 0.9739\n",
      "Epoch 3/11\n",
      "48000/48000 [==============================] - 26s 543us/step - loss: 0.0976 - accuracy: 0.9701 - val_loss: 0.0662 - val_accuracy: 0.9797\n",
      "Epoch 4/11\n",
      "48000/48000 [==============================] - 25s 530us/step - loss: 0.0756 - accuracy: 0.9779 - val_loss: 0.0620 - val_accuracy: 0.9812\n",
      "Epoch 5/11\n",
      "48000/48000 [==============================] - 26s 545us/step - loss: 0.0580 - accuracy: 0.9831 - val_loss: 0.0549 - val_accuracy: 0.9847\n",
      "Epoch 6/11\n",
      "48000/48000 [==============================] - 27s 562us/step - loss: 0.0497 - accuracy: 0.9850 - val_loss: 0.0482 - val_accuracy: 0.9855\n",
      "Epoch 7/11\n",
      "48000/48000 [==============================] - 26s 532us/step - loss: 0.0401 - accuracy: 0.9871 - val_loss: 0.0554 - val_accuracy: 0.9850\n",
      "Epoch 8/11\n",
      "48000/48000 [==============================] - 25s 529us/step - loss: 0.0334 - accuracy: 0.9895 - val_loss: 0.0463 - val_accuracy: 0.9862\n",
      "Epoch 9/11\n",
      "48000/48000 [==============================] - 26s 543us/step - loss: 0.0292 - accuracy: 0.9908 - val_loss: 0.0554 - val_accuracy: 0.9858\n",
      "Epoch 10/11\n",
      "48000/48000 [==============================] - 26s 552us/step - loss: 0.0260 - accuracy: 0.9916 - val_loss: 0.0550 - val_accuracy: 0.9843\n",
      "Epoch 11/11\n",
      "34240/48000 [====================>.........] - ETA: 6s - loss: 0.0220 - accuracy: 0.9928"
     ]
    }
   ],
   "source": [
    "from keras.optimizers import Adam\n",
    "model_without_svd = lenet5()\n",
    "optimizer = Adam(lr=learning_rate)\n",
    "model_without_svd.compile(optimizer= optimizer, \n",
    "              loss='sparse_categorical_crossentropy', \n",
    "              metrics=['accuracy'])\n",
    "original = model_without_svd.fit(x=data_train['X'],y=data_train['y'], epochs=11,  \n",
    "                    # We pass some validation for\n",
    "                    # monitoring validation loss and metrics\n",
    "                    # at the end of each epoch\n",
    "                    validation_data=(data_validation['X'], data_validation['y']))"
   ]
  },
  {
   "cell_type": "markdown",
   "metadata": {},
   "source": [
    "### Visualize the training process performance"
   ]
  },
  {
   "cell_type": "code",
   "execution_count": 243,
   "metadata": {},
   "outputs": [
    {
     "name": "stdout",
     "output_type": "stream",
     "text": [
      "dict_keys(['val_loss', 'val_accuracy', 'loss', 'accuracy'])\n"
     ]
    },
    {
     "data": {
      "image/png": "[encoded data removed]",
      "text/plain": [
       "<Figure size 432x288 with 1 Axes>"
      ]
     },
     "metadata": {},
     "output_type": "display_data"
    },
    {
     "data": {
      "image/png": "[encoded data removed]",
      "text/plain": [
       "<Figure size 432x288 with 1 Axes>"
      ]
     },
     "metadata": {},
     "output_type": "display_data"
    }
   ],
   "source": [
    "# Plot data\n",
    "# list all data in history\n",
    "print(original.history.keys())\n",
    "# summarize history for accuracy\n",
    "x_axis = np.arange(1,EPOCHS+1)\n",
    "plt.plot(x_axis,original.history['accuracy'])\n",
    "plt.plot(x_axis,original.history['val_accuracy'])\n",
    "plt.title('Model Accuracy')\n",
    "plt.ylabel('Accuracy')\n",
    "plt.xlabel('Epoch')\n",
    "plt.legend(['Train', 'Validation'], loc='upper left')\n",
    "plt.show()\n",
    "# summarize history for loss\n",
    "plt.plot(x_axis,original.history['loss'])\n",
    "plt.plot(x_axis,original.history['val_loss'])\n",
    "plt.title('Model Loss')\n",
    "plt.ylabel('Accuracy')\n",
    "plt.xlabel('Epoch')\n",
    "plt.legend(['Train', 'Validation'], loc='upper left')\n",
    "plt.show()"
   ]
  },
  {
   "cell_type": "markdown",
   "metadata": {},
   "source": [
    "## Testing Model without SVD"
   ]
  },
  {
   "cell_type": "code",
   "execution_count": null,
   "metadata": {},
   "outputs": [],
   "source": [
    "test_result = model.evaluate(data_test['X'], data_test['y'])\n",
    "print(\"Model Loss : {:.4f} - Accuracy : {:.4f}\".format(test_result[0],test_result[1]))"
   ]
  },
  {
   "cell_type": "markdown",
   "metadata": {},
   "source": [
    "## SVD Implementation"
   ]
  },
  {
   "cell_type": "code",
   "execution_count": 159,
   "metadata": {},
   "outputs": [],
   "source": [
    "def get_reduced_data(features, number_of_components):\n",
    "    \"\"\"\n",
    "    This method process all original data to low rank data using SVD, and reconstruct using some components.\n",
    "    Result of the dimension of features is same, so no dimension reduction but keep the data lower.\n",
    "    Input : features , number_of_components\n",
    "    Output : reduced_features\n",
    "    \"\"\"\n",
    "    \n",
    "    reduced_features = []\n",
    "    # iterate over features\n",
    "    for i in range(len(features)):\n",
    "        # obtain svd without the channel 32x32xC\n",
    "        U, S, V = np.linalg.svd(features[i].squeeze())\n",
    "        # construct the matrix to lower rank\n",
    "        reduced_feature = U[:, :number_of_components] @ np.diag(S[:number_of_components]) @ V[:number_of_components , :]\n",
    "        # append to the list and add channel again so 32x32x1\n",
    "        reduced_features.append(reduced_feature[:,:,np.newaxis]) \n",
    "    \n",
    "    return np.array(reduced_features) # convert from list to array"
   ]
  },
  {
   "cell_type": "markdown",
   "metadata": {},
   "source": [
    "### Visualize the Image from reduced data"
   ]
  },
  {
   "cell_type": "code",
   "execution_count": 233,
   "metadata": {},
   "outputs": [
    {
     "data": {
      "text/plain": [
       "array([[0., 0., 0., ..., 0., 0., 0.],\n",
       "       [0., 0., 0., ..., 0., 0., 0.],\n",
       "       [0., 0., 0., ..., 0., 0., 0.],\n",
       "       ...,\n",
       "       [0., 0., 0., ..., 0., 0., 0.],\n",
       "       [0., 0., 0., ..., 0., 0., 0.],\n",
       "       [0., 0., 0., ..., 0., 0., 0.]])"
      ]
     },
     "execution_count": 233,
     "metadata": {},
     "output_type": "execute_result"
    }
   ],
   "source": [
    "# components that we use, less than the original dimension\n",
    "num_of_components = 6\n",
    "\n",
    "# get SVD\n",
    "U, S, V = np.linalg.svd(data_train['X'][0].squeeze())\n",
    "# reconstruct the matrix to low rank matrix with 15 components \n",
    "low_rank = U[:, :num_of_components] @ np.diag(S[:num_of_components]) @ V[:num_of_components, :]\n",
    "low_rank"
   ]
  },
  {
   "cell_type": "code",
   "execution_count": 234,
   "metadata": {},
   "outputs": [
    {
     "data": {
      "text/plain": [
       "<matplotlib.image.AxesImage at 0x7fa8737bfa50>"
      ]
     },
     "execution_count": 234,
     "metadata": {},
     "output_type": "execute_result"
    },
    {
     "data": {
      "image/png": "[encoded data removed]",
      "text/plain": [
       "<Figure size 432x288 with 1 Axes>"
      ]
     },
     "metadata": {},
     "output_type": "display_data"
    }
   ],
   "source": [
    "# show images\n",
    "plt.imshow(low_rank.squeeze(), cmap=plt.cm.gray_r)"
   ]
  },
  {
   "cell_type": "code",
   "execution_count": 236,
   "metadata": {},
   "outputs": [
    {
     "data": {
      "image/png": "[encoded data removed]",
      "text/plain": [
       "<Figure size 432x288 with 1 Axes>"
      ]
     },
     "metadata": {},
     "output_type": "display_data"
    }
   ],
   "source": [
    "# original image\n",
    "display_image(0)"
   ]
  },
  {
   "cell_type": "markdown",
   "metadata": {},
   "source": [
    "### Get reduced data for Data Training, Data Validation, and Data Testing"
   ]
  },
  {
   "cell_type": "code",
   "execution_count": 174,
   "metadata": {},
   "outputs": [],
   "source": [
    "data_train_SVD = get_reduced_data(data_train['X'], num_of_components)\n",
    "data_test_SVD = get_reduced_data(data_test['X'], num_of_components)\n",
    "data_validation_SVD = get_reduced_data(data_validation['X'], num_of_components)"
   ]
  },
  {
   "cell_type": "markdown",
   "metadata": {},
   "source": [
    "## Training Model with SVD"
   ]
  },
  {
   "cell_type": "code",
   "execution_count": 199,
   "metadata": {},
   "outputs": [
    {
     "name": "stdout",
     "output_type": "stream",
     "text": [
      "Train on 48000 samples, validate on 12000 samples\n",
      "Epoch 1/12\n",
      "48000/48000 [==============================] - 27s 568us/step - loss: 0.0026 - accuracy: 0.9992 - val_loss: 0.0841 - val_accuracy: 0.9895\n",
      "Epoch 2/12\n",
      "48000/48000 [==============================] - 28s 575us/step - loss: 0.0012 - accuracy: 0.9996 - val_loss: 0.0717 - val_accuracy: 0.9906\n",
      "Epoch 3/12\n",
      "48000/48000 [==============================] - 27s 558us/step - loss: 0.0026 - accuracy: 0.9993 - val_loss: 0.0645 - val_accuracy: 0.9913\n",
      "Epoch 4/12\n",
      "48000/48000 [==============================] - 27s 556us/step - loss: 0.0017 - accuracy: 0.9996 - val_loss: 0.0747 - val_accuracy: 0.9907\n",
      "Epoch 5/12\n",
      "48000/48000 [==============================] - 27s 569us/step - loss: 0.0011 - accuracy: 0.9996 - val_loss: 0.0855 - val_accuracy: 0.9902\n",
      "Epoch 6/12\n",
      "48000/48000 [==============================] - 29s 596us/step - loss: 0.0033 - accuracy: 0.9990 - val_loss: 0.0758 - val_accuracy: 0.9915\n",
      "Epoch 7/12\n",
      "48000/48000 [==============================] - 27s 569us/step - loss: 0.0015 - accuracy: 0.9996 - val_loss: 0.0740 - val_accuracy: 0.9903\n",
      "Epoch 8/12\n",
      "48000/48000 [==============================] - 28s 594us/step - loss: 0.0011 - accuracy: 0.9997 - val_loss: 0.0902 - val_accuracy: 0.9908\n",
      "Epoch 9/12\n",
      "48000/48000 [==============================] - 30s 621us/step - loss: 0.0036 - accuracy: 0.9991 - val_loss: 0.0936 - val_accuracy: 0.9897\n",
      "Epoch 10/12\n",
      "48000/48000 [==============================] - 30s 617us/step - loss: 0.0015 - accuracy: 0.9996 - val_loss: 0.0750 - val_accuracy: 0.9912\n",
      "Epoch 11/12\n",
      "48000/48000 [==============================] - 30s 616us/step - loss: 0.0014 - accuracy: 0.9995 - val_loss: 0.0823 - val_accuracy: 0.9909\n",
      "Epoch 12/12\n",
      "48000/48000 [==============================] - 29s 598us/step - loss: 9.7014e-04 - accuracy: 0.9996 - val_loss: 0.0807 - val_accuracy: 0.9917\n"
     ]
    }
   ],
   "source": [
    "model_with_svd = lenet5()\n",
    "model_svd = model_with_svd.fit(x=data_train_SVD,y=data_train['y'], epochs=EPOCHS,  \n",
    "                    # We pass some validation for\n",
    "                    # monitoring validation loss and metrics\n",
    "                    # at the end of each epoch\n",
    "                    validation_data=(data_validation_SVD, data_validation['y']))"
   ]
  },
  {
   "cell_type": "markdown",
   "metadata": {},
   "source": [
    "### Visualize the training process performance"
   ]
  },
  {
   "cell_type": "code",
   "execution_count": 200,
   "metadata": {},
   "outputs": [
    {
     "name": "stdout",
     "output_type": "stream",
     "text": [
      "dict_keys(['val_loss', 'val_accuracy', 'loss', 'accuracy'])\n"
     ]
    },
    {
     "data": {
      "image/png": "[encoded data removed]",
      "text/plain": [
       "<Figure size 432x288 with 1 Axes>"
      ]
     },
     "metadata": {
      "needs_background": "light"
     },
     "output_type": "display_data"
    },
    {
     "data": {
      "image/png": "[encoded data removed]",
      "text/plain": [
       "<Figure size 432x288 with 1 Axes>"
      ]
     },
     "metadata": {
      "needs_background": "light"
     },
     "output_type": "display_data"
    }
   ],
   "source": [
    "# Plot data\n",
    "# list all data in history\n",
    "print(model_svd.history.keys())\n",
    "# summarize history for accuracy\n",
    "x_axis = np.arange(1,EPOCHS+1)\n",
    "plt.plot(x_axis,model_svd.history['accuracy'])\n",
    "plt.plot(x_axis,model_svd.history['val_accuracy'])\n",
    "plt.title('Model Accuracy')\n",
    "plt.ylabel('Accuracy')\n",
    "plt.xlabel('Epoch')\n",
    "plt.legend(['Train', 'Validation'], loc='upper left')\n",
    "plt.show()\n",
    "# summarize history for loss\n",
    "plt.plot(x_axis,model_svd.history['loss'])\n",
    "plt.plot(x_axis,model_svd.history['val_loss'])\n",
    "plt.title('Model Loss')\n",
    "plt.ylabel('Accuracy')\n",
    "plt.xlabel('Epoch')\n",
    "plt.legend(['Train', 'Validation'], loc='upper left')\n",
    "plt.show()"
   ]
  },
  {
   "cell_type": "markdown",
   "metadata": {},
   "source": [
    "## Testing Model with SVD"
   ]
  },
  {
   "cell_type": "code",
   "execution_count": 205,
   "metadata": {},
   "outputs": [
    {
     "name": "stdout",
     "output_type": "stream",
     "text": [
      "10000/10000 [==============================] - 2s 242us/step\n",
      "Model Loss : 0.0769 - Accuracy : 0.9912\n"
     ]
    }
   ],
   "source": [
    "test_result = model_with_svd.evaluate(data_test_SVD, data_test['y'])\n",
    "print(\"Model Loss : {:.4f} - Accuracy : {:.4f}\".format(test_result[0],test_result[1]))"
   ]
  },
  {
   "cell_type": "markdown",
   "metadata": {},
   "source": [
    "## Observe the number of components to test result"
   ]
  },
  {
   "cell_type": "code",
   "execution_count": 216,
   "metadata": {},
   "outputs": [
    {
     "data": {
      "text/plain": [
       "array([ 2,  4,  6,  8, 10, 12, 14, 16, 18, 20, 22, 24, 26, 28, 30])"
      ]
     },
     "execution_count": 216,
     "metadata": {},
     "output_type": "execute_result"
    }
   ],
   "source": [
    "acc_test_list = []\n",
    "required_time_list = []\n",
    "num_of_components_list = np.arange(2,32,2)\n",
    "num_of_components_list"
   ]
  },
  {
   "cell_type": "code",
   "execution_count": 219,
   "metadata": {},
   "outputs": [
    {
     "name": "stdout",
     "output_type": "stream",
     "text": [
      "\n",
      "\n",
      "SVD Implementation with components 2\n",
      "Preprocessing all data...\n",
      "Training model...\n",
      "Train on 48000 samples, validate on 12000 samples\n",
      "Epoch 1/12\n",
      "48000/48000 [==============================] - 27s 557us/step - loss: 0.0905 - accuracy: 0.9714 - val_loss: 0.1231 - val_accuracy: 0.9663\n",
      "Epoch 2/12\n",
      "48000/48000 [==============================] - 26s 550us/step - loss: 0.0695 - accuracy: 0.9771 - val_loss: 0.1245 - val_accuracy: 0.9682\n",
      "Epoch 3/12\n",
      "48000/48000 [==============================] - 27s 569us/step - loss: 0.0591 - accuracy: 0.9805 - val_loss: 0.1212 - val_accuracy: 0.9712\n",
      "Epoch 4/12\n",
      "48000/48000 [==============================] - 27s 567us/step - loss: 0.0475 - accuracy: 0.9839 - val_loss: 0.1132 - val_accuracy: 0.9725\n",
      "Epoch 5/12\n",
      "48000/48000 [==============================] - 29s 599us/step - loss: 0.0409 - accuracy: 0.9864 - val_loss: 0.1259 - val_accuracy: 0.9721\n",
      "Epoch 6/12\n",
      "48000/48000 [==============================] - 28s 588us/step - loss: 0.0350 - accuracy: 0.9879 - val_loss: 0.1198 - val_accuracy: 0.9725\n",
      "Epoch 7/12\n",
      "48000/48000 [==============================] - 35s 729us/step - loss: 0.0331 - accuracy: 0.9883 - val_loss: 0.1248 - val_accuracy: 0.9716\n",
      "Epoch 8/12\n",
      "48000/48000 [==============================] - 31s 640us/step - loss: 0.0270 - accuracy: 0.9904 - val_loss: 0.1234 - val_accuracy: 0.9723\n",
      "Epoch 9/12\n",
      "48000/48000 [==============================] - 28s 592us/step - loss: 0.0238 - accuracy: 0.9918 - val_loss: 0.1350 - val_accuracy: 0.9736\n",
      "Epoch 10/12\n",
      "48000/48000 [==============================] - 28s 591us/step - loss: 0.0207 - accuracy: 0.9926 - val_loss: 0.1280 - val_accuracy: 0.9730\n",
      "Epoch 11/12\n",
      "48000/48000 [==============================] - 27s 559us/step - loss: 0.0186 - accuracy: 0.9937 - val_loss: 0.1373 - val_accuracy: 0.9709\n",
      "Epoch 12/12\n",
      "48000/48000 [==============================] - 27s 568us/step - loss: 0.0175 - accuracy: 0.9939 - val_loss: 0.1398 - val_accuracy: 0.9728\n",
      "Testing model...\n",
      "10000/10000 [==============================] - 3s 253us/step\n",
      "Model Loss : 0.1208 - Accuracy : 0.9740\n",
      "--- 360.40650963783264 seconds ---\n",
      "\n",
      "\n",
      "SVD Implementation with components 4\n",
      "Preprocessing all data...\n",
      "Training model...\n",
      "Train on 48000 samples, validate on 12000 samples\n",
      "Epoch 1/12\n",
      "48000/48000 [==============================] - 32s 665us/step - loss: 0.0253 - accuracy: 0.9935 - val_loss: 0.0703 - val_accuracy: 0.9871\n",
      "Epoch 2/12\n",
      "48000/48000 [==============================] - 28s 579us/step - loss: 0.0114 - accuracy: 0.9963 - val_loss: 0.0746 - val_accuracy: 0.9870\n",
      "Epoch 3/12\n",
      "48000/48000 [==============================] - 30s 622us/step - loss: 0.0083 - accuracy: 0.9972 - val_loss: 0.0820 - val_accuracy: 0.9855\n",
      "Epoch 4/12\n",
      "48000/48000 [==============================] - 27s 568us/step - loss: 0.0068 - accuracy: 0.9978 - val_loss: 0.0780 - val_accuracy: 0.9872\n",
      "Epoch 5/12\n",
      "48000/48000 [==============================] - 27s 559us/step - loss: 0.0054 - accuracy: 0.9982 - val_loss: 0.0850 - val_accuracy: 0.9873\n",
      "Epoch 6/12\n",
      "48000/48000 [==============================] - 27s 556us/step - loss: 0.0055 - accuracy: 0.9982 - val_loss: 0.0790 - val_accuracy: 0.9886\n",
      "Epoch 7/12\n",
      "48000/48000 [==============================] - 27s 562us/step - loss: 0.0047 - accuracy: 0.9983 - val_loss: 0.0821 - val_accuracy: 0.9877\n",
      "Epoch 8/12\n",
      "48000/48000 [==============================] - 27s 572us/step - loss: 0.0036 - accuracy: 0.9987 - val_loss: 0.0986 - val_accuracy: 0.9877\n",
      "Epoch 9/12\n",
      "48000/48000 [==============================] - 27s 559us/step - loss: 0.0039 - accuracy: 0.9986 - val_loss: 0.0811 - val_accuracy: 0.9889\n",
      "Epoch 10/12\n",
      "48000/48000 [==============================] - 27s 561us/step - loss: 0.0033 - accuracy: 0.9990 - val_loss: 0.0861 - val_accuracy: 0.9878\n",
      "Epoch 11/12\n",
      "48000/48000 [==============================] - 27s 561us/step - loss: 0.0046 - accuracy: 0.9986 - val_loss: 0.0900 - val_accuracy: 0.9877\n",
      "Epoch 12/12\n",
      "48000/48000 [==============================] - 27s 560us/step - loss: 0.0054 - accuracy: 0.9987 - val_loss: 0.0769 - val_accuracy: 0.9893\n",
      "Testing model...\n",
      "10000/10000 [==============================] - 2s 247us/step\n",
      "Model Loss : 0.0663 - Accuracy : 0.9892\n",
      "--- 350.8456244468689 seconds ---\n",
      "\n",
      "\n",
      "SVD Implementation with components 6\n",
      "Preprocessing all data...\n",
      "Training model...\n",
      "Train on 48000 samples, validate on 12000 samples\n",
      "Epoch 1/12\n",
      "48000/48000 [==============================] - 27s 558us/step - loss: 0.0048 - accuracy: 0.9986 - val_loss: 0.0841 - val_accuracy: 0.9898\n",
      "Epoch 2/12\n",
      "48000/48000 [==============================] - 27s 565us/step - loss: 0.0037 - accuracy: 0.9992 - val_loss: 0.0764 - val_accuracy: 0.9901\n",
      "Epoch 3/12\n",
      "48000/48000 [==============================] - 26s 539us/step - loss: 0.0027 - accuracy: 0.9992 - val_loss: 0.0745 - val_accuracy: 0.9907\n",
      "Epoch 4/12\n",
      "48000/48000 [==============================] - 27s 572us/step - loss: 0.0018 - accuracy: 0.9994 - val_loss: 0.0906 - val_accuracy: 0.9897\n",
      "Epoch 5/12\n",
      "48000/48000 [==============================] - 28s 577us/step - loss: 0.0031 - accuracy: 0.9992 - val_loss: 0.0794 - val_accuracy: 0.9895\n",
      "Epoch 6/12\n",
      "48000/48000 [==============================] - 27s 565us/step - loss: 0.0017 - accuracy: 0.9995 - val_loss: 0.0920 - val_accuracy: 0.9900\n",
      "Epoch 7/12\n",
      "48000/48000 [==============================] - 26s 538us/step - loss: 0.0033 - accuracy: 0.9990 - val_loss: 0.0850 - val_accuracy: 0.9894\n",
      "Epoch 8/12\n",
      "48000/48000 [==============================] - 26s 543us/step - loss: 0.0023 - accuracy: 0.9993 - val_loss: 0.0760 - val_accuracy: 0.9900\n",
      "Epoch 9/12\n",
      "48000/48000 [==============================] - 26s 538us/step - loss: 0.0013 - accuracy: 0.9995 - val_loss: 0.1018 - val_accuracy: 0.9886\n",
      "Epoch 10/12\n",
      "48000/48000 [==============================] - 26s 536us/step - loss: 0.0035 - accuracy: 0.9991 - val_loss: 0.0906 - val_accuracy: 0.9889\n",
      "Epoch 11/12\n",
      "48000/48000 [==============================] - 26s 543us/step - loss: 0.0020 - accuracy: 0.9994 - val_loss: 0.0852 - val_accuracy: 0.9909\n",
      "Epoch 12/12\n",
      "48000/48000 [==============================] - 27s 572us/step - loss: 9.2944e-04 - accuracy: 0.9997 - val_loss: 0.0788 - val_accuracy: 0.9910\n",
      "Testing model...\n",
      "10000/10000 [==============================] - 3s 263us/step\n",
      "Model Loss : 0.0677 - Accuracy : 0.9916\n",
      "--- 337.5150833129883 seconds ---\n",
      "\n",
      "\n",
      "SVD Implementation with components 8\n",
      "Preprocessing all data...\n",
      "Training model...\n",
      "Train on 48000 samples, validate on 12000 samples\n",
      "Epoch 1/12\n",
      "48000/48000 [==============================] - 26s 536us/step - loss: 0.0021 - accuracy: 0.9995 - val_loss: 0.0845 - val_accuracy: 0.9910\n",
      "Epoch 2/12\n",
      "48000/48000 [==============================] - 26s 538us/step - loss: 0.0021 - accuracy: 0.9995 - val_loss: 0.0913 - val_accuracy: 0.9907\n",
      "Epoch 3/12\n",
      "48000/48000 [==============================] - 26s 538us/step - loss: 0.0021 - accuracy: 0.9992 - val_loss: 0.0886 - val_accuracy: 0.9908\n",
      "Epoch 4/12\n",
      "48000/48000 [==============================] - 26s 543us/step - loss: 0.0018 - accuracy: 0.9994 - val_loss: 0.0955 - val_accuracy: 0.9894\n",
      "Epoch 5/12\n",
      "48000/48000 [==============================] - 27s 553us/step - loss: 0.0014 - accuracy: 0.9996 - val_loss: 0.1091 - val_accuracy: 0.9902\n",
      "Epoch 6/12\n",
      "48000/48000 [==============================] - 26s 540us/step - loss: 0.0033 - accuracy: 0.9991 - val_loss: 0.0909 - val_accuracy: 0.9909\n",
      "Epoch 7/12\n",
      "48000/48000 [==============================] - 26s 540us/step - loss: 0.0017 - accuracy: 0.9997 - val_loss: 0.1013 - val_accuracy: 0.9885\n",
      "Epoch 8/12\n",
      "48000/48000 [==============================] - 26s 541us/step - loss: 0.0021 - accuracy: 0.9995 - val_loss: 0.0959 - val_accuracy: 0.9908\n",
      "Epoch 9/12\n",
      "48000/48000 [==============================] - 26s 539us/step - loss: 0.0012 - accuracy: 0.9996 - val_loss: 0.0873 - val_accuracy: 0.9914\n",
      "Epoch 10/12\n",
      "48000/48000 [==============================] - 26s 539us/step - loss: 0.0015 - accuracy: 0.9996 - val_loss: 0.0933 - val_accuracy: 0.9905\n",
      "Epoch 11/12\n",
      "48000/48000 [==============================] - 26s 543us/step - loss: 0.0026 - accuracy: 0.9994 - val_loss: 0.0955 - val_accuracy: 0.9898\n",
      "Epoch 12/12\n",
      "48000/48000 [==============================] - 26s 544us/step - loss: 0.0017 - accuracy: 0.9996 - val_loss: 0.0868 - val_accuracy: 0.9902\n",
      "Testing model...\n"
     ]
    },
    {
     "name": "stdout",
     "output_type": "stream",
     "text": [
      "10000/10000 [==============================] - 2s 224us/step\n",
      "Model Loss : 0.0739 - Accuracy : 0.9904\n",
      "--- 330.0984468460083 seconds ---\n",
      "\n",
      "\n",
      "SVD Implementation with components 10\n",
      "Preprocessing all data...\n",
      "Training model...\n",
      "Train on 48000 samples, validate on 12000 samples\n",
      "Epoch 1/12\n",
      "48000/48000 [==============================] - 25s 515us/step - loss: 7.9000e-04 - accuracy: 0.9997 - val_loss: 0.0916 - val_accuracy: 0.9907\n",
      "Epoch 2/12\n",
      "48000/48000 [==============================] - 25s 527us/step - loss: 0.0015 - accuracy: 0.9996 - val_loss: 0.0964 - val_accuracy: 0.9901\n",
      "Epoch 3/12\n",
      "48000/48000 [==============================] - 26s 534us/step - loss: 0.0017 - accuracy: 0.9995 - val_loss: 0.0931 - val_accuracy: 0.9896\n",
      "Epoch 4/12\n",
      "48000/48000 [==============================] - 26s 533us/step - loss: 0.0019 - accuracy: 0.9995 - val_loss: 0.0872 - val_accuracy: 0.9900\n",
      "Epoch 5/12\n",
      "48000/48000 [==============================] - 26s 535us/step - loss: 0.0015 - accuracy: 0.9996 - val_loss: 0.0997 - val_accuracy: 0.9897\n",
      "Epoch 6/12\n",
      "48000/48000 [==============================] - 26s 541us/step - loss: 0.0025 - accuracy: 0.9995 - val_loss: 0.0958 - val_accuracy: 0.9905\n",
      "Epoch 7/12\n",
      "48000/48000 [==============================] - 26s 543us/step - loss: 0.0013 - accuracy: 0.9995 - val_loss: 0.0985 - val_accuracy: 0.9913\n",
      "Epoch 8/12\n",
      "48000/48000 [==============================] - 27s 554us/step - loss: 0.0011 - accuracy: 0.9997 - val_loss: 0.1121 - val_accuracy: 0.9900\n",
      "Epoch 9/12\n",
      "48000/48000 [==============================] - 26s 543us/step - loss: 7.4440e-04 - accuracy: 0.9997 - val_loss: 0.0936 - val_accuracy: 0.9907\n",
      "Epoch 10/12\n",
      "48000/48000 [==============================] - 25s 531us/step - loss: 0.0016 - accuracy: 0.9995 - val_loss: 0.0996 - val_accuracy: 0.9902\n",
      "Epoch 11/12\n",
      "48000/48000 [==============================] - 27s 562us/step - loss: 0.0015 - accuracy: 0.9995 - val_loss: 0.0984 - val_accuracy: 0.9901\n",
      "Epoch 12/12\n",
      "48000/48000 [==============================] - 26s 532us/step - loss: 8.6272e-04 - accuracy: 0.9997 - val_loss: 0.1181 - val_accuracy: 0.9899\n",
      "Testing model...\n",
      "10000/10000 [==============================] - 2s 232us/step\n",
      "Model Loss : 0.0869 - Accuracy : 0.9899\n",
      "--- 328.1653826236725 seconds ---\n",
      "\n",
      "\n",
      "SVD Implementation with components 12\n",
      "Preprocessing all data...\n",
      "Training model...\n",
      "Train on 48000 samples, validate on 12000 samples\n",
      "Epoch 1/12\n",
      "48000/48000 [==============================] - 26s 543us/step - loss: 0.0018 - accuracy: 0.9996 - val_loss: 0.1183 - val_accuracy: 0.9909\n",
      "Epoch 2/12\n",
      "48000/48000 [==============================] - 26s 532us/step - loss: 9.3599e-04 - accuracy: 0.9997 - val_loss: 0.1011 - val_accuracy: 0.9905\n",
      "Epoch 3/12\n",
      "48000/48000 [==============================] - 26s 532us/step - loss: 0.0017 - accuracy: 0.9996 - val_loss: 0.0942 - val_accuracy: 0.9901\n",
      "Epoch 4/12\n",
      "48000/48000 [==============================] - 26s 532us/step - loss: 4.4095e-04 - accuracy: 0.9999 - val_loss: 0.1057 - val_accuracy: 0.9891\n",
      "Epoch 5/12\n",
      "48000/48000 [==============================] - 26s 534us/step - loss: 0.0011 - accuracy: 0.9998 - val_loss: 0.1320 - val_accuracy: 0.9889\n",
      "Epoch 6/12\n",
      "48000/48000 [==============================] - 26s 536us/step - loss: 0.0020 - accuracy: 0.9994 - val_loss: 0.1448 - val_accuracy: 0.9886\n",
      "Epoch 7/12\n",
      "48000/48000 [==============================] - 26s 534us/step - loss: 0.0021 - accuracy: 0.9995 - val_loss: 0.0976 - val_accuracy: 0.9902\n",
      "Epoch 8/12\n",
      "48000/48000 [==============================] - 26s 536us/step - loss: 7.8690e-05 - accuracy: 1.0000 - val_loss: 0.1063 - val_accuracy: 0.9902\n",
      "Epoch 9/12\n",
      "48000/48000 [==============================] - 26s 533us/step - loss: 1.4064e-04 - accuracy: 1.0000 - val_loss: 0.1096 - val_accuracy: 0.9898\n",
      "Epoch 10/12\n",
      "48000/48000 [==============================] - 26s 536us/step - loss: 0.0019 - accuracy: 0.9994 - val_loss: 0.1167 - val_accuracy: 0.9898\n",
      "Epoch 11/12\n",
      "48000/48000 [==============================] - 26s 538us/step - loss: 0.0014 - accuracy: 0.9998 - val_loss: 0.1161 - val_accuracy: 0.9886\n",
      "Epoch 12/12\n",
      "48000/48000 [==============================] - 26s 535us/step - loss: 0.0014 - accuracy: 0.9997 - val_loss: 0.1084 - val_accuracy: 0.9905\n",
      "Testing model...\n",
      "10000/10000 [==============================] - 2s 231us/step\n",
      "Model Loss : 0.0980 - Accuracy : 0.9907\n",
      "--- 326.85085248947144 seconds ---\n",
      "\n",
      "\n",
      "SVD Implementation with components 14\n",
      "Preprocessing all data...\n",
      "Training model...\n",
      "Train on 48000 samples, validate on 12000 samples\n",
      "Epoch 1/12\n",
      "48000/48000 [==============================] - 25s 531us/step - loss: 6.9895e-04 - accuracy: 0.9997 - val_loss: 0.1154 - val_accuracy: 0.9901\n",
      "Epoch 2/12\n",
      "48000/48000 [==============================] - 26s 535us/step - loss: 0.0012 - accuracy: 0.9996 - val_loss: 0.1265 - val_accuracy: 0.9910\n",
      "Epoch 3/12\n",
      "48000/48000 [==============================] - 26s 540us/step - loss: 0.0015 - accuracy: 0.9996 - val_loss: 0.1158 - val_accuracy: 0.9912\n",
      "Epoch 4/12\n",
      "48000/48000 [==============================] - 26s 538us/step - loss: 0.0013 - accuracy: 0.9996 - val_loss: 0.1091 - val_accuracy: 0.9915\n",
      "Epoch 5/12\n",
      "48000/48000 [==============================] - 26s 549us/step - loss: 0.0017 - accuracy: 0.9997 - val_loss: 0.1086 - val_accuracy: 0.9909\n",
      "Epoch 6/12\n",
      "48000/48000 [==============================] - 26s 538us/step - loss: 8.5455e-04 - accuracy: 0.9997 - val_loss: 0.1129 - val_accuracy: 0.9906\n",
      "Epoch 7/12\n",
      "48000/48000 [==============================] - 26s 543us/step - loss: 0.0021 - accuracy: 0.9995 - val_loss: 0.1042 - val_accuracy: 0.9904\n",
      "Epoch 8/12\n",
      "48000/48000 [==============================] - 26s 539us/step - loss: 5.8726e-04 - accuracy: 0.9998 - val_loss: 0.1103 - val_accuracy: 0.9912\n",
      "Epoch 9/12\n",
      "48000/48000 [==============================] - 26s 539us/step - loss: 0.0017 - accuracy: 0.9997 - val_loss: 0.1067 - val_accuracy: 0.9898\n",
      "Epoch 10/12\n",
      "48000/48000 [==============================] - 26s 537us/step - loss: 0.0019 - accuracy: 0.9996 - val_loss: 0.1137 - val_accuracy: 0.9898\n",
      "Epoch 11/12\n",
      "48000/48000 [==============================] - 26s 539us/step - loss: 8.0280e-04 - accuracy: 0.9998 - val_loss: 0.0970 - val_accuracy: 0.9907\n",
      "Epoch 12/12\n",
      "48000/48000 [==============================] - 26s 541us/step - loss: 1.1551e-04 - accuracy: 1.0000 - val_loss: 0.1105 - val_accuracy: 0.9906\n",
      "Testing model...\n",
      "10000/10000 [==============================] - 2s 234us/step\n",
      "Model Loss : 0.0941 - Accuracy : 0.9913\n",
      "--- 329.314781665802 seconds ---\n",
      "\n",
      "\n",
      "SVD Implementation with components 16\n",
      "Preprocessing all data...\n",
      "Training model...\n",
      "Train on 48000 samples, validate on 12000 samples\n",
      "Epoch 1/12\n",
      "48000/48000 [==============================] - 26s 537us/step - loss: 0.0024 - accuracy: 0.9995 - val_loss: 0.1152 - val_accuracy: 0.9898\n",
      "Epoch 2/12\n",
      "48000/48000 [==============================] - 26s 540us/step - loss: 0.0011 - accuracy: 0.9997 - val_loss: 0.1011 - val_accuracy: 0.9915\n",
      "Epoch 3/12\n",
      "48000/48000 [==============================] - 26s 539us/step - loss: 9.3820e-04 - accuracy: 0.9998 - val_loss: 0.1031 - val_accuracy: 0.9909\n",
      "Epoch 4/12\n",
      "48000/48000 [==============================] - 26s 541us/step - loss: 0.0017 - accuracy: 0.9996 - val_loss: 0.0983 - val_accuracy: 0.9903\n",
      "Epoch 5/12\n",
      "48000/48000 [==============================] - 26s 539us/step - loss: 1.2596e-04 - accuracy: 0.9999 - val_loss: 0.1127 - val_accuracy: 0.9899\n",
      "Epoch 6/12\n",
      "48000/48000 [==============================] - 26s 541us/step - loss: 6.6179e-05 - accuracy: 1.0000 - val_loss: 0.1093 - val_accuracy: 0.9908\n",
      "Epoch 7/12\n",
      "48000/48000 [==============================] - 26s 539us/step - loss: 0.0031 - accuracy: 0.9993 - val_loss: 0.1151 - val_accuracy: 0.9897\n",
      "Epoch 8/12\n",
      "48000/48000 [==============================] - 26s 539us/step - loss: 0.0015 - accuracy: 0.9996 - val_loss: 0.1055 - val_accuracy: 0.9897\n",
      "Epoch 9/12\n",
      "48000/48000 [==============================] - 26s 542us/step - loss: 0.0010 - accuracy: 0.9997 - val_loss: 0.0922 - val_accuracy: 0.9901\n",
      "Epoch 10/12\n",
      "48000/48000 [==============================] - 27s 552us/step - loss: 6.8480e-04 - accuracy: 0.9999 - val_loss: 0.1121 - val_accuracy: 0.9904\n",
      "Epoch 11/12\n",
      "48000/48000 [==============================] - 26s 542us/step - loss: 0.0011 - accuracy: 0.9997 - val_loss: 0.1014 - val_accuracy: 0.9910\n"
     ]
    },
    {
     "name": "stdout",
     "output_type": "stream",
     "text": [
      "Epoch 12/12\n",
      "48000/48000 [==============================] - 24s 507us/step - loss: 0.0016 - accuracy: 0.9998 - val_loss: 0.1176 - val_accuracy: 0.9908\n",
      "Testing model...\n",
      "10000/10000 [==============================] - 2s 221us/step\n",
      "Model Loss : 0.1040 - Accuracy : 0.9903\n",
      "--- 328.72755575180054 seconds ---\n",
      "\n",
      "\n",
      "SVD Implementation with components 18\n",
      "Preprocessing all data...\n",
      "Training model...\n",
      "Train on 48000 samples, validate on 12000 samples\n",
      "Epoch 1/12\n",
      "48000/48000 [==============================] - 24s 506us/step - loss: 3.4503e-04 - accuracy: 0.9999 - val_loss: 0.1022 - val_accuracy: 0.9910\n",
      "Epoch 2/12\n",
      "48000/48000 [==============================] - 24s 505us/step - loss: 4.5789e-04 - accuracy: 0.9999 - val_loss: 0.1063 - val_accuracy: 0.9905\n",
      "Epoch 3/12\n",
      "48000/48000 [==============================] - 24s 502us/step - loss: 0.0013 - accuracy: 0.9997 - val_loss: 0.0991 - val_accuracy: 0.9912\n",
      "Epoch 4/12\n",
      "48000/48000 [==============================] - 24s 506us/step - loss: 9.7084e-04 - accuracy: 0.9997 - val_loss: 0.1177 - val_accuracy: 0.9899\n",
      "Epoch 5/12\n",
      "48000/48000 [==============================] - 24s 510us/step - loss: 0.0017 - accuracy: 0.9996 - val_loss: 0.1091 - val_accuracy: 0.9908\n",
      "Epoch 6/12\n",
      "48000/48000 [==============================] - 24s 508us/step - loss: 7.9246e-04 - accuracy: 0.9998 - val_loss: 0.1028 - val_accuracy: 0.9905\n",
      "Epoch 7/12\n",
      "48000/48000 [==============================] - 24s 505us/step - loss: 0.0022 - accuracy: 0.9994 - val_loss: 0.1167 - val_accuracy: 0.9903\n",
      "Epoch 8/12\n",
      "48000/48000 [==============================] - 24s 506us/step - loss: 0.0011 - accuracy: 0.9998 - val_loss: 0.1401 - val_accuracy: 0.9880\n",
      "Epoch 9/12\n",
      "48000/48000 [==============================] - 24s 507us/step - loss: 0.0010 - accuracy: 0.9998 - val_loss: 0.1131 - val_accuracy: 0.9901\n",
      "Epoch 10/12\n",
      "48000/48000 [==============================] - 24s 508us/step - loss: 5.6198e-04 - accuracy: 0.9999 - val_loss: 0.1069 - val_accuracy: 0.9914\n",
      "Epoch 11/12\n",
      "48000/48000 [==============================] - 24s 508us/step - loss: 0.0010 - accuracy: 0.9997 - val_loss: 0.1222 - val_accuracy: 0.9907\n",
      "Epoch 12/12\n",
      "48000/48000 [==============================] - 24s 508us/step - loss: 0.0016 - accuracy: 0.9997 - val_loss: 0.1148 - val_accuracy: 0.9908\n",
      "Testing model...\n",
      "10000/10000 [==============================] - 2s 220us/step\n",
      "Model Loss : 0.0951 - Accuracy : 0.9920\n",
      "--- 310.5439705848694 seconds ---\n",
      "\n",
      "\n",
      "SVD Implementation with components 20\n",
      "Preprocessing all data...\n",
      "Training model...\n",
      "Train on 48000 samples, validate on 12000 samples\n",
      "Epoch 1/12\n",
      "48000/48000 [==============================] - 27s 564us/step - loss: 0.0010 - accuracy: 0.9997 - val_loss: 0.1121 - val_accuracy: 0.9907\n",
      "Epoch 2/12\n",
      "48000/48000 [==============================] - 26s 547us/step - loss: 7.2170e-04 - accuracy: 0.9998 - val_loss: 0.1162 - val_accuracy: 0.9895\n",
      "Epoch 3/12\n",
      "48000/48000 [==============================] - 26s 537us/step - loss: 7.1908e-04 - accuracy: 0.9998 - val_loss: 0.1078 - val_accuracy: 0.9900\n",
      "Epoch 4/12\n",
      "48000/48000 [==============================] - 26s 534us/step - loss: 0.0010 - accuracy: 0.9998 - val_loss: 0.1177 - val_accuracy: 0.9904\n",
      "Epoch 5/12\n",
      "48000/48000 [==============================] - 26s 537us/step - loss: 0.0023 - accuracy: 0.9995 - val_loss: 0.1182 - val_accuracy: 0.9908\n",
      "Epoch 6/12\n",
      "48000/48000 [==============================] - 26s 536us/step - loss: 6.6445e-04 - accuracy: 0.9998 - val_loss: 0.1156 - val_accuracy: 0.9912\n",
      "Epoch 7/12\n",
      "48000/48000 [==============================] - 26s 539us/step - loss: 0.0011 - accuracy: 0.9998 - val_loss: 0.1115 - val_accuracy: 0.9906\n",
      "Epoch 8/12\n",
      "48000/48000 [==============================] - 26s 538us/step - loss: 0.0010 - accuracy: 0.9999 - val_loss: 0.1038 - val_accuracy: 0.9917\n",
      "Epoch 9/12\n",
      "48000/48000 [==============================] - 26s 538us/step - loss: 4.6385e-04 - accuracy: 0.9998 - val_loss: 0.1067 - val_accuracy: 0.9902\n",
      "Epoch 10/12\n",
      "48000/48000 [==============================] - 26s 537us/step - loss: 7.8616e-04 - accuracy: 0.9999 - val_loss: 0.1569 - val_accuracy: 0.9880\n",
      "Epoch 11/12\n",
      "48000/48000 [==============================] - 26s 540us/step - loss: 0.0017 - accuracy: 0.9996 - val_loss: 0.1142 - val_accuracy: 0.9908\n",
      "Epoch 12/12\n",
      "48000/48000 [==============================] - 26s 542us/step - loss: 0.0011 - accuracy: 0.9997 - val_loss: 0.1188 - val_accuracy: 0.9902\n",
      "Testing model...\n",
      "10000/10000 [==============================] - 2s 233us/step\n",
      "Model Loss : 0.1033 - Accuracy : 0.9910\n",
      "--- 330.52148389816284 seconds ---\n",
      "\n",
      "\n",
      "SVD Implementation with components 22\n",
      "Preprocessing all data...\n",
      "Training model...\n",
      "Train on 48000 samples, validate on 12000 samples\n",
      "Epoch 1/12\n",
      "48000/48000 [==============================] - 26s 533us/step - loss: 6.0875e-04 - accuracy: 0.9999 - val_loss: 0.1189 - val_accuracy: 0.9908\n",
      "Epoch 2/12\n",
      "48000/48000 [==============================] - 26s 540us/step - loss: 4.9140e-04 - accuracy: 0.9999 - val_loss: 0.1306 - val_accuracy: 0.9910\n",
      "Epoch 3/12\n",
      "48000/48000 [==============================] - 26s 538us/step - loss: 8.6496e-04 - accuracy: 0.9998 - val_loss: 0.1451 - val_accuracy: 0.9896\n",
      "Epoch 4/12\n",
      "48000/48000 [==============================] - 26s 547us/step - loss: 0.0012 - accuracy: 0.9996 - val_loss: 0.1431 - val_accuracy: 0.9894\n",
      "Epoch 5/12\n",
      "48000/48000 [==============================] - 26s 540us/step - loss: 0.0012 - accuracy: 0.9998 - val_loss: 0.1405 - val_accuracy: 0.9902\n",
      "Epoch 6/12\n",
      "48000/48000 [==============================] - 27s 572us/step - loss: 9.5034e-04 - accuracy: 0.9998 - val_loss: 0.1129 - val_accuracy: 0.9903\n",
      "Epoch 7/12\n",
      "48000/48000 [==============================] - 28s 593us/step - loss: 0.0011 - accuracy: 0.9997 - val_loss: 0.1298 - val_accuracy: 0.9890\n",
      "Epoch 8/12\n",
      "48000/48000 [==============================] - 26s 547us/step - loss: 0.0013 - accuracy: 0.9997 - val_loss: 0.1270 - val_accuracy: 0.9887\n",
      "Epoch 9/12\n",
      "48000/48000 [==============================] - 26s 547us/step - loss: 7.5036e-04 - accuracy: 0.9998 - val_loss: 0.1154 - val_accuracy: 0.9902\n",
      "Epoch 10/12\n",
      "48000/48000 [==============================] - 26s 546us/step - loss: 6.5242e-04 - accuracy: 0.9998 - val_loss: 0.1128 - val_accuracy: 0.9912\n",
      "Epoch 11/12\n",
      "48000/48000 [==============================] - 26s 544us/step - loss: 5.7696e-04 - accuracy: 0.9999 - val_loss: 0.1116 - val_accuracy: 0.9912\n",
      "Epoch 12/12\n",
      "48000/48000 [==============================] - 26s 545us/step - loss: 0.0017 - accuracy: 0.9996 - val_loss: 0.1443 - val_accuracy: 0.9890\n",
      "Testing model...\n",
      "10000/10000 [==============================] - 2s 234us/step\n",
      "Model Loss : 0.1316 - Accuracy : 0.9894\n",
      "--- 335.23634696006775 seconds ---\n",
      "\n",
      "\n",
      "SVD Implementation with components 24\n",
      "Preprocessing all data...\n",
      "Training model...\n",
      "Train on 48000 samples, validate on 12000 samples\n",
      "Epoch 1/12\n",
      "48000/48000 [==============================] - 26s 537us/step - loss: 0.0014 - accuracy: 0.9998 - val_loss: 0.1139 - val_accuracy: 0.9906\n",
      "Epoch 2/12\n",
      "48000/48000 [==============================] - 26s 537us/step - loss: 3.7394e-04 - accuracy: 0.9999 - val_loss: 0.1253 - val_accuracy: 0.9907\n",
      "Epoch 3/12\n",
      "48000/48000 [==============================] - 26s 544us/step - loss: 0.0020 - accuracy: 0.9996 - val_loss: 0.1134 - val_accuracy: 0.9902\n",
      "Epoch 4/12\n",
      "48000/48000 [==============================] - 26s 546us/step - loss: 2.3844e-04 - accuracy: 0.9999 - val_loss: 0.1220 - val_accuracy: 0.9905\n",
      "Epoch 5/12\n",
      "48000/48000 [==============================] - 26s 548us/step - loss: 0.0014 - accuracy: 0.9998 - val_loss: 0.1494 - val_accuracy: 0.9898\n",
      "Epoch 6/12\n",
      "48000/48000 [==============================] - 27s 557us/step - loss: 7.9236e-04 - accuracy: 0.9998 - val_loss: 0.1276 - val_accuracy: 0.9904\n",
      "Epoch 7/12\n",
      "48000/48000 [==============================] - 28s 575us/step - loss: 3.6579e-04 - accuracy: 0.9998 - val_loss: 0.1372 - val_accuracy: 0.9893\n",
      "Epoch 8/12\n",
      "48000/48000 [==============================] - 27s 570us/step - loss: 0.0019 - accuracy: 0.9996 - val_loss: 0.1274 - val_accuracy: 0.9909\n",
      "Epoch 9/12\n",
      "48000/48000 [==============================] - 28s 587us/step - loss: 4.2592e-04 - accuracy: 0.9999 - val_loss: 0.1226 - val_accuracy: 0.9902\n",
      "Epoch 10/12\n"
     ]
    },
    {
     "name": "stdout",
     "output_type": "stream",
     "text": [
      "48000/48000 [==============================] - 25s 530us/step - loss: 3.3749e-04 - accuracy: 0.9999 - val_loss: 0.1297 - val_accuracy: 0.9894\n",
      "Epoch 11/12\n",
      "48000/48000 [==============================] - 25s 527us/step - loss: 3.4517e-04 - accuracy: 0.9998 - val_loss: 0.1665 - val_accuracy: 0.9888\n",
      "Epoch 12/12\n",
      "48000/48000 [==============================] - 25s 522us/step - loss: 0.0014 - accuracy: 0.9997 - val_loss: 0.1298 - val_accuracy: 0.9905\n",
      "Testing model...\n",
      "10000/10000 [==============================] - 2s 229us/step\n",
      "Model Loss : 0.1154 - Accuracy : 0.9910\n",
      "--- 334.89879393577576 seconds ---\n",
      "\n",
      "\n",
      "SVD Implementation with components 26\n",
      "Preprocessing all data...\n",
      "Training model...\n",
      "Train on 48000 samples, validate on 12000 samples\n",
      "Epoch 1/12\n",
      "48000/48000 [==============================] - 26s 546us/step - loss: 0.0024 - accuracy: 0.9996 - val_loss: 0.1406 - val_accuracy: 0.9894\n",
      "Epoch 2/12\n",
      "48000/48000 [==============================] - 25s 531us/step - loss: 4.9025e-04 - accuracy: 0.9999 - val_loss: 0.1172 - val_accuracy: 0.9912\n",
      "Epoch 3/12\n",
      "48000/48000 [==============================] - 26s 542us/step - loss: 5.1302e-04 - accuracy: 0.9998 - val_loss: 0.1358 - val_accuracy: 0.9899\n",
      "Epoch 4/12\n",
      "48000/48000 [==============================] - 26s 546us/step - loss: 0.0018 - accuracy: 0.9996 - val_loss: 0.1225 - val_accuracy: 0.9904\n",
      "Epoch 5/12\n",
      "48000/48000 [==============================] - 26s 542us/step - loss: 0.0020 - accuracy: 0.9996 - val_loss: 0.1054 - val_accuracy: 0.9906\n",
      "Epoch 6/12\n",
      "48000/48000 [==============================] - 25s 531us/step - loss: 6.0690e-04 - accuracy: 0.9998 - val_loss: 0.1379 - val_accuracy: 0.9898\n",
      "Epoch 7/12\n",
      "48000/48000 [==============================] - 25s 529us/step - loss: 0.0013 - accuracy: 0.9996 - val_loss: 0.1229 - val_accuracy: 0.9910\n",
      "Epoch 8/12\n",
      "48000/48000 [==============================] - 26s 535us/step - loss: 0.0010 - accuracy: 0.9998 - val_loss: 0.1390 - val_accuracy: 0.9903\n",
      "Epoch 9/12\n",
      "48000/48000 [==============================] - 26s 532us/step - loss: 3.3997e-04 - accuracy: 0.9998 - val_loss: 0.1327 - val_accuracy: 0.9908\n",
      "Epoch 10/12\n",
      "48000/48000 [==============================] - 26s 532us/step - loss: 0.0013 - accuracy: 0.9996 - val_loss: 0.1300 - val_accuracy: 0.9903\n",
      "Epoch 11/12\n",
      "48000/48000 [==============================] - 26s 533us/step - loss: 0.0011 - accuracy: 0.9998 - val_loss: 0.1237 - val_accuracy: 0.9911\n",
      "Epoch 12/12\n",
      "48000/48000 [==============================] - 26s 533us/step - loss: 0.0022 - accuracy: 0.9996 - val_loss: 0.1338 - val_accuracy: 0.9906\n",
      "Testing model...\n",
      "10000/10000 [==============================] - 2s 231us/step\n",
      "Model Loss : 0.1078 - Accuracy : 0.9912\n",
      "--- 328.094247341156 seconds ---\n",
      "\n",
      "\n",
      "SVD Implementation with components 28\n",
      "Preprocessing all data...\n",
      "Training model...\n",
      "Train on 48000 samples, validate on 12000 samples\n",
      "Epoch 1/12\n",
      "48000/48000 [==============================] - 25s 526us/step - loss: 9.4624e-04 - accuracy: 0.9998 - val_loss: 0.1322 - val_accuracy: 0.9907\n",
      "Epoch 2/12\n",
      "48000/48000 [==============================] - 25s 528us/step - loss: 0.0025 - accuracy: 0.9995 - val_loss: 0.1372 - val_accuracy: 0.9903\n",
      "Epoch 3/12\n",
      "48000/48000 [==============================] - 26s 533us/step - loss: 6.5450e-04 - accuracy: 0.9997 - val_loss: 0.1585 - val_accuracy: 0.9893\n",
      "Epoch 4/12\n",
      "48000/48000 [==============================] - 26s 536us/step - loss: 1.4052e-04 - accuracy: 0.9999 - val_loss: 0.1507 - val_accuracy: 0.9908\n",
      "Epoch 5/12\n",
      "48000/48000 [==============================] - 26s 532us/step - loss: 0.0017 - accuracy: 0.9996 - val_loss: 0.1352 - val_accuracy: 0.9907\n",
      "Epoch 6/12\n",
      "48000/48000 [==============================] - 26s 535us/step - loss: 0.0011 - accuracy: 0.9998 - val_loss: 0.1347 - val_accuracy: 0.9903\n",
      "Epoch 7/12\n",
      "48000/48000 [==============================] - 26s 534us/step - loss: 0.0014 - accuracy: 0.9997 - val_loss: 0.1396 - val_accuracy: 0.9898\n",
      "Epoch 8/12\n",
      "48000/48000 [==============================] - 26s 539us/step - loss: 1.0301e-04 - accuracy: 1.0000 - val_loss: 0.1334 - val_accuracy: 0.9916\n",
      "Epoch 9/12\n",
      "48000/48000 [==============================] - 26s 538us/step - loss: 7.2591e-04 - accuracy: 0.9998 - val_loss: 0.1462 - val_accuracy: 0.9904\n",
      "Epoch 10/12\n",
      "48000/48000 [==============================] - 26s 536us/step - loss: 0.0021 - accuracy: 0.9996 - val_loss: 0.1413 - val_accuracy: 0.9911\n",
      "Epoch 11/12\n",
      "48000/48000 [==============================] - 26s 535us/step - loss: 0.0018 - accuracy: 0.9997 - val_loss: 0.1369 - val_accuracy: 0.9915\n",
      "Epoch 12/12\n",
      "48000/48000 [==============================] - 26s 538us/step - loss: 8.3708e-04 - accuracy: 0.9999 - val_loss: 0.1232 - val_accuracy: 0.9913\n",
      "Testing model...\n",
      "10000/10000 [==============================] - 2s 232us/step\n",
      "Model Loss : 0.1125 - Accuracy : 0.9915\n",
      "--- 326.2883791923523 seconds ---\n",
      "\n",
      "\n",
      "SVD Implementation with components 30\n",
      "Preprocessing all data...\n",
      "Training model...\n",
      "Train on 48000 samples, validate on 12000 samples\n",
      "Epoch 1/12\n",
      "48000/48000 [==============================] - 25s 528us/step - loss: 8.0987e-05 - accuracy: 1.0000 - val_loss: 0.1325 - val_accuracy: 0.9914\n",
      "Epoch 2/12\n",
      "48000/48000 [==============================] - 26s 548us/step - loss: 0.0011 - accuracy: 0.9997 - val_loss: 0.1418 - val_accuracy: 0.9899\n",
      "Epoch 3/12\n",
      "48000/48000 [==============================] - 27s 564us/step - loss: 7.2841e-04 - accuracy: 0.9998 - val_loss: 0.1342 - val_accuracy: 0.9910\n",
      "Epoch 4/12\n",
      "48000/48000 [==============================] - 26s 549us/step - loss: 5.9647e-04 - accuracy: 0.9999 - val_loss: 0.1430 - val_accuracy: 0.9912\n",
      "Epoch 5/12\n",
      "48000/48000 [==============================] - 26s 535us/step - loss: 5.8040e-04 - accuracy: 0.9999 - val_loss: 0.1435 - val_accuracy: 0.9903\n",
      "Epoch 6/12\n",
      "48000/48000 [==============================] - 26s 538us/step - loss: 0.0010 - accuracy: 0.9997 - val_loss: 0.1372 - val_accuracy: 0.9901\n",
      "Epoch 7/12\n",
      "48000/48000 [==============================] - 26s 537us/step - loss: 0.0020 - accuracy: 0.9995 - val_loss: 0.1506 - val_accuracy: 0.9894\n",
      "Epoch 8/12\n",
      "48000/48000 [==============================] - 26s 541us/step - loss: 4.8056e-04 - accuracy: 0.9999 - val_loss: 0.1528 - val_accuracy: 0.9892\n",
      "Epoch 9/12\n",
      "48000/48000 [==============================] - 26s 542us/step - loss: 0.0012 - accuracy: 0.9997 - val_loss: 0.1455 - val_accuracy: 0.9893\n",
      "Epoch 10/12\n",
      "48000/48000 [==============================] - 26s 544us/step - loss: 7.1416e-04 - accuracy: 0.9997 - val_loss: 0.1486 - val_accuracy: 0.9902\n",
      "Epoch 11/12\n",
      "48000/48000 [==============================] - 26s 542us/step - loss: 6.9071e-04 - accuracy: 0.9999 - val_loss: 0.1651 - val_accuracy: 0.9905\n",
      "Epoch 12/12\n",
      "48000/48000 [==============================] - 26s 537us/step - loss: 8.0304e-04 - accuracy: 0.9998 - val_loss: 0.1701 - val_accuracy: 0.9889\n",
      "Testing model...\n",
      "10000/10000 [==============================] - 2s 232us/step\n",
      "Model Loss : 0.1153 - Accuracy : 0.9910\n",
      "--- 330.89474296569824 seconds ---\n"
     ]
    }
   ],
   "source": [
    "model_with_svd = lenet5()\n",
    "for num_components in num_of_components_list:\n",
    "    print(\"\\n\")\n",
    "    print(\"SVD Implementation with components {}\".format(num_components))\n",
    "    start_time = time.time()\n",
    "    print(\"Preprocessing all data...\")\n",
    "    # pre processing\n",
    "    data_train_SVD = get_reduced_data(data_train['X'], num_components)\n",
    "    data_test_SVD = get_reduced_data(data_test['X'], num_components)\n",
    "    data_validation_SVD = get_reduced_data(data_validation['X'], num_components)\n",
    "    print(\"Training model...\")\n",
    "    # training\n",
    "    model_with_svd.fit(x=data_train_SVD,y=data_train['y'], epochs=EPOCHS,  \n",
    "                    # We pass some validation for\n",
    "                    # monitoring validation loss and metrics\n",
    "                    # at the end of each epoch\n",
    "                    validation_data=(data_validation_SVD, data_validation['y']))\n",
    "    \n",
    "    print(\"Testing model...\")\n",
    "    # testing\n",
    "    test_result = model_with_svd.evaluate(data_test_SVD, data_test['y'])\n",
    "    print(\"Model Loss : {:.4f} - Accuracy : {:.4f}\".format(test_result[0],test_result[1]))\n",
    "    required_time = time.time() - start_time\n",
    "    print(\"--- %s seconds ---\" % (required_time))\n",
    "    acc_test_list.append(test_result[1]) # append accuracy result to list\n",
    "    required_time_list.append(required_time)\n",
    "    "
   ]
  },
  {
   "cell_type": "code",
   "execution_count": 224,
   "metadata": {},
   "outputs": [
    {
     "data": {
      "image/png": "[encoded data removed]",
      "text/plain": [
       "<Figure size 432x288 with 1 Axes>"
      ]
     },
     "metadata": {},
     "output_type": "display_data"
    }
   ],
   "source": [
    "plt.plot(num_of_components_list,acc_test_list)\n",
    "plt.title('Accuracy on Testing Data SVD')\n",
    "plt.ylabel('Accuracy')\n",
    "plt.xlabel('Number of Components')\n",
    "plt.show()"
   ]
  },
  {
   "cell_type": "markdown",
   "metadata": {},
   "source": [
    "18 number components of SVD gives the highest accuracy"
   ]
  },
  {
   "cell_type": "code",
   "execution_count": null,
   "metadata": {},
   "outputs": [],
   "source": []
  }
 ],
 "metadata": {
  "kernelspec": {
   "display_name": "Python 3",
   "language": "python",
   "name": "python3"
  },
  "language_info": {
   "codemirror_mode": {
    "name": "ipython",
    "version": 3
   },
   "file_extension": ".py",
   "mimetype": "text/x-python",
   "name": "python",
   "nbconvert_exporter": "python",
   "pygments_lexer": "ipython3",
   "version": "3.7.4"
  }
 },
 "nbformat": 4,
 "nbformat_minor": 2
}
